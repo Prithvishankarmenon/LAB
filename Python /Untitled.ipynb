{
 "cells": [
  {
   "cell_type": "markdown",
   "id": "d02c7e05",
   "metadata": {},
   "source": [
    "                                  PYTHON AND STATISTICAL MODELING LAB"
   ]
  },
  {
   "cell_type": "markdown",
   "id": "956b0035",
   "metadata": {},
   "source": [
    "DATA TYPES IN PYTHON"
   ]
  },
  {
   "cell_type": "markdown",
   "id": "28e23490",
   "metadata": {},
   "source": [
    "1. FLOAT\n",
    "\n",
    "2. INTEGER\n",
    "\n",
    "3. COMPLEX\n",
    "\n",
    "4. BOOLEAN"
   ]
  },
  {
   "cell_type": "code",
   "execution_count": 57,
   "id": "454a1c57",
   "metadata": {},
   "outputs": [
    {
     "name": "stdout",
     "output_type": "stream",
     "text": [
      "hi\n"
     ]
    }
   ],
   "source": [
    "print(\"hi\") #hiiii"
   ]
  },
  {
   "cell_type": "code",
   "execution_count": 58,
   "id": "7df38ac5",
   "metadata": {},
   "outputs": [
    {
     "data": {
      "text/plain": [
       "int"
      ]
     },
     "execution_count": 58,
     "metadata": {},
     "output_type": "execute_result"
    }
   ],
   "source": [
    "a=150\n",
    "type(a)"
   ]
  },
  {
   "cell_type": "code",
   "execution_count": 59,
   "id": "dacd0326",
   "metadata": {},
   "outputs": [
    {
     "data": {
      "text/plain": [
       "str"
      ]
     },
     "execution_count": 59,
     "metadata": {},
     "output_type": "execute_result"
    }
   ],
   "source": [
    "b=\"hi\"\n",
    "type(b)"
   ]
  },
  {
   "cell_type": "code",
   "execution_count": 60,
   "id": "13132846",
   "metadata": {},
   "outputs": [
    {
     "data": {
      "text/plain": [
       "float"
      ]
     },
     "execution_count": 60,
     "metadata": {},
     "output_type": "execute_result"
    }
   ],
   "source": [
    "c=3.142857142857143\n",
    "type(c)"
   ]
  },
  {
   "cell_type": "code",
   "execution_count": 61,
   "id": "cfc59a30",
   "metadata": {},
   "outputs": [
    {
     "data": {
      "text/plain": [
       "float"
      ]
     },
     "execution_count": 61,
     "metadata": {},
     "output_type": "execute_result"
    }
   ],
   "source": [
    "d=22/7\n",
    "type(d)"
   ]
  },
  {
   "cell_type": "code",
   "execution_count": 62,
   "id": "1c8aa9d5",
   "metadata": {},
   "outputs": [
    {
     "data": {
      "text/plain": [
       "complex"
      ]
     },
     "execution_count": 62,
     "metadata": {},
     "output_type": "execute_result"
    }
   ],
   "source": [
    "e=2+3j\n",
    "type(e)"
   ]
  },
  {
   "cell_type": "code",
   "execution_count": 63,
   "id": "5e9f736c",
   "metadata": {},
   "outputs": [
    {
     "data": {
      "text/plain": [
       "bool"
      ]
     },
     "execution_count": 63,
     "metadata": {},
     "output_type": "execute_result"
    }
   ],
   "source": [
    "f=(a>0)\n",
    "type(f)"
   ]
  },
  {
   "cell_type": "markdown",
   "id": "8ccc82d7",
   "metadata": {},
   "source": [
    "                                 PYTHON COLLECTION DATATYPES"
   ]
  },
  {
   "cell_type": "markdown",
   "id": "3b00ef2b",
   "metadata": {},
   "source": [
    "1. LIST\n",
    "2. TUPPLE\n",
    "3. DICTIONARY\n",
    "4. SET"
   ]
  },
  {
   "cell_type": "code",
   "execution_count": 64,
   "id": "710632e4",
   "metadata": {},
   "outputs": [
    {
     "data": {
      "text/plain": [
       "list"
      ]
     },
     "execution_count": 64,
     "metadata": {},
     "output_type": "execute_result"
    }
   ],
   "source": [
    "age=[1,10,20,30,40,50,60,70,80,90,100]\n",
    "type(age)"
   ]
  },
  {
   "cell_type": "code",
   "execution_count": 65,
   "id": "b448afb2",
   "metadata": {},
   "outputs": [
    {
     "data": {
      "text/plain": [
       "[1, 10, 20, 30, 40, 50, 60, 70, 80, 90, 100]"
      ]
     },
     "execution_count": 65,
     "metadata": {},
     "output_type": "execute_result"
    }
   ],
   "source": [
    "age"
   ]
  },
  {
   "cell_type": "code",
   "execution_count": 66,
   "id": "84d11114",
   "metadata": {},
   "outputs": [
    {
     "data": {
      "text/plain": [
       "1"
      ]
     },
     "execution_count": 66,
     "metadata": {},
     "output_type": "execute_result"
    }
   ],
   "source": [
    "age[0]"
   ]
  },
  {
   "cell_type": "code",
   "execution_count": 67,
   "id": "3f7d68cf",
   "metadata": {},
   "outputs": [
    {
     "data": {
      "text/plain": [
       "[1, 10, 20, 30, 40]"
      ]
     },
     "execution_count": 67,
     "metadata": {},
     "output_type": "execute_result"
    }
   ],
   "source": [
    "age[0:5]"
   ]
  },
  {
   "cell_type": "code",
   "execution_count": 68,
   "id": "cd8ce495",
   "metadata": {},
   "outputs": [
    {
     "data": {
      "text/plain": [
       "100"
      ]
     },
     "execution_count": 68,
     "metadata": {},
     "output_type": "execute_result"
    }
   ],
   "source": [
    "age[-1]"
   ]
  },
  {
   "cell_type": "code",
   "execution_count": 69,
   "id": "0a099015",
   "metadata": {},
   "outputs": [
    {
     "data": {
      "text/plain": [
       "[100, 90, 80, 70, 60]"
      ]
     },
     "execution_count": 69,
     "metadata": {},
     "output_type": "execute_result"
    }
   ],
   "source": [
    "age[-1:-6:-1]        # Back Slicing"
   ]
  },
  {
   "cell_type": "code",
   "execution_count": 70,
   "id": "a1be9b19",
   "metadata": {},
   "outputs": [
    {
     "data": {
      "text/plain": [
       "[100, 90, 80, 70, 60, 50, 40, 30, 20, 10, 1]"
      ]
     },
     "execution_count": 70,
     "metadata": {},
     "output_type": "execute_result"
    }
   ],
   "source": [
    "age[::-1]           # Reverse List"
   ]
  },
  {
   "cell_type": "code",
   "execution_count": 71,
   "id": "687526bb",
   "metadata": {},
   "outputs": [
    {
     "data": {
      "text/plain": [
       "[100, 80, 60]"
      ]
     },
     "execution_count": 71,
     "metadata": {},
     "output_type": "execute_result"
    }
   ],
   "source": [
    "age[-1:-6:-2]"
   ]
  },
  {
   "cell_type": "code",
   "execution_count": 72,
   "id": "8885b23a",
   "metadata": {},
   "outputs": [
    {
     "data": {
      "text/plain": [
       "1"
      ]
     },
     "execution_count": 72,
     "metadata": {},
     "output_type": "execute_result"
    }
   ],
   "source": [
    "min(age)"
   ]
  },
  {
   "cell_type": "code",
   "execution_count": 73,
   "id": "3aa6590b",
   "metadata": {},
   "outputs": [
    {
     "data": {
      "text/plain": [
       "100"
      ]
     },
     "execution_count": 73,
     "metadata": {},
     "output_type": "execute_result"
    }
   ],
   "source": [
    "max(age)"
   ]
  },
  {
   "cell_type": "code",
   "execution_count": 74,
   "id": "3b716a78",
   "metadata": {},
   "outputs": [
    {
     "data": {
      "text/plain": [
       "11"
      ]
     },
     "execution_count": 74,
     "metadata": {},
     "output_type": "execute_result"
    }
   ],
   "source": [
    "len(age)"
   ]
  },
  {
   "cell_type": "code",
   "execution_count": 75,
   "id": "ada688c9",
   "metadata": {},
   "outputs": [
    {
     "data": {
      "text/plain": [
       "551"
      ]
     },
     "execution_count": 75,
     "metadata": {},
     "output_type": "execute_result"
    }
   ],
   "source": [
    "sum(age)"
   ]
  },
  {
   "cell_type": "code",
   "execution_count": 76,
   "id": "7e0b5510",
   "metadata": {},
   "outputs": [],
   "source": [
    "age.append(110)"
   ]
  },
  {
   "cell_type": "code",
   "execution_count": 77,
   "id": "e66af108",
   "metadata": {},
   "outputs": [
    {
     "data": {
      "text/plain": [
       "[1, 10, 20, 30, 40, 50, 60, 70, 80, 90, 100, 110]"
      ]
     },
     "execution_count": 77,
     "metadata": {},
     "output_type": "execute_result"
    }
   ],
   "source": [
    "age"
   ]
  },
  {
   "cell_type": "code",
   "execution_count": 78,
   "id": "3ef78ff3",
   "metadata": {},
   "outputs": [],
   "source": [
    "age.extend([120,130,140,150])"
   ]
  },
  {
   "cell_type": "code",
   "execution_count": 79,
   "id": "1138caf2",
   "metadata": {},
   "outputs": [
    {
     "data": {
      "text/plain": [
       "[1, 10, 20, 30, 40, 50, 60, 70, 80, 90, 100, 110, 120, 130, 140, 150]"
      ]
     },
     "execution_count": 79,
     "metadata": {},
     "output_type": "execute_result"
    }
   ],
   "source": [
    "age"
   ]
  },
  {
   "cell_type": "code",
   "execution_count": 80,
   "id": "c8ac339e",
   "metadata": {},
   "outputs": [],
   "source": [
    "age.append([160,170,180])"
   ]
  },
  {
   "cell_type": "code",
   "execution_count": 81,
   "id": "9af10387",
   "metadata": {},
   "outputs": [
    {
     "data": {
      "text/plain": [
       "[1,\n",
       " 10,\n",
       " 20,\n",
       " 30,\n",
       " 40,\n",
       " 50,\n",
       " 60,\n",
       " 70,\n",
       " 80,\n",
       " 90,\n",
       " 100,\n",
       " 110,\n",
       " 120,\n",
       " 130,\n",
       " 140,\n",
       " 150,\n",
       " [160, 170, 180]]"
      ]
     },
     "execution_count": 81,
     "metadata": {},
     "output_type": "execute_result"
    }
   ],
   "source": [
    "age"
   ]
  },
  {
   "cell_type": "code",
   "execution_count": 82,
   "id": "c16fcc39",
   "metadata": {},
   "outputs": [
    {
     "data": {
      "text/plain": [
       "[1,\n",
       " 10,\n",
       " 20,\n",
       " 30,\n",
       " 40,\n",
       " 50,\n",
       " 60,\n",
       " 70,\n",
       " 80,\n",
       " 90,\n",
       " 100,\n",
       " 110,\n",
       " 120,\n",
       " 130,\n",
       " 140,\n",
       " 150,\n",
       " [160, 170, 180]]"
      ]
     },
     "execution_count": 82,
     "metadata": {},
     "output_type": "execute_result"
    }
   ],
   "source": [
    "age"
   ]
  },
  {
   "cell_type": "code",
   "execution_count": 83,
   "id": "8219d924",
   "metadata": {},
   "outputs": [],
   "source": [
    "age.remove([160,170,180])"
   ]
  },
  {
   "cell_type": "code",
   "execution_count": 84,
   "id": "89614a19",
   "metadata": {},
   "outputs": [
    {
     "data": {
      "text/plain": [
       "[1, 10, 20, 30, 40, 50, 60, 70, 80, 90, 100, 110, 120, 130, 140, 150]"
      ]
     },
     "execution_count": 84,
     "metadata": {},
     "output_type": "execute_result"
    }
   ],
   "source": [
    "age"
   ]
  },
  {
   "cell_type": "code",
   "execution_count": 85,
   "id": "1b1efbdb",
   "metadata": {},
   "outputs": [],
   "source": [
    "age.insert(0,0.5)"
   ]
  },
  {
   "cell_type": "code",
   "execution_count": 86,
   "id": "9d584f69",
   "metadata": {},
   "outputs": [
    {
     "data": {
      "text/plain": [
       "[0.5, 1, 10, 20, 30, 40, 50, 60, 70, 80, 90, 100, 110, 120, 130, 140, 150]"
      ]
     },
     "execution_count": 86,
     "metadata": {},
     "output_type": "execute_result"
    }
   ],
   "source": [
    "age"
   ]
  },
  {
   "cell_type": "code",
   "execution_count": 87,
   "id": "34a6081e",
   "metadata": {},
   "outputs": [
    {
     "data": {
      "text/plain": [
       "150"
      ]
     },
     "execution_count": 87,
     "metadata": {},
     "output_type": "execute_result"
    }
   ],
   "source": [
    "max(age)"
   ]
  },
  {
   "cell_type": "code",
   "execution_count": 88,
   "id": "ce6f85a1",
   "metadata": {},
   "outputs": [],
   "source": [
    "age.insert(-1,160)"
   ]
  },
  {
   "cell_type": "code",
   "execution_count": 89,
   "id": "bfd65275",
   "metadata": {},
   "outputs": [
    {
     "data": {
      "text/plain": [
       "[0.5, 1, 10, 20, 30, 40, 50, 60, 70, 80, 90, 100, 110, 120, 130, 140, 160, 150]"
      ]
     },
     "execution_count": 89,
     "metadata": {},
     "output_type": "execute_result"
    }
   ],
   "source": [
    "age"
   ]
  },
  {
   "cell_type": "code",
   "execution_count": 90,
   "id": "074bba7d",
   "metadata": {},
   "outputs": [],
   "source": [
    "age.remove(160)"
   ]
  },
  {
   "cell_type": "code",
   "execution_count": 91,
   "id": "ab75d509",
   "metadata": {},
   "outputs": [
    {
     "data": {
      "text/plain": [
       "[0.5, 1, 10, 20, 30, 40, 50, 60, 70, 80, 90, 100, 110, 120, 130, 140, 150]"
      ]
     },
     "execution_count": 91,
     "metadata": {},
     "output_type": "execute_result"
    }
   ],
   "source": [
    "age"
   ]
  },
  {
   "cell_type": "code",
   "execution_count": 92,
   "id": "a0c3fb9b",
   "metadata": {},
   "outputs": [],
   "source": [
    "age.remove(0.5)"
   ]
  },
  {
   "cell_type": "code",
   "execution_count": 93,
   "id": "74c27047",
   "metadata": {},
   "outputs": [
    {
     "data": {
      "text/plain": [
       "[1, 10, 20, 30, 40, 50, 60, 70, 80, 90, 100, 110, 120, 130, 140, 150]"
      ]
     },
     "execution_count": 93,
     "metadata": {},
     "output_type": "execute_result"
    }
   ],
   "source": [
    "age"
   ]
  },
  {
   "cell_type": "code",
   "execution_count": 94,
   "id": "c00038db",
   "metadata": {},
   "outputs": [],
   "source": [
    "age1=age.copy()"
   ]
  },
  {
   "cell_type": "code",
   "execution_count": 95,
   "id": "0fbbd654",
   "metadata": {},
   "outputs": [
    {
     "data": {
      "text/plain": [
       "[1, 10, 20, 30, 40, 50, 60, 70, 80, 90, 100, 110, 120, 130, 140, 150]"
      ]
     },
     "execution_count": 95,
     "metadata": {},
     "output_type": "execute_result"
    }
   ],
   "source": [
    "age1"
   ]
  },
  {
   "cell_type": "code",
   "execution_count": 96,
   "id": "05c8427f",
   "metadata": {},
   "outputs": [],
   "source": [
    "age1.clear()"
   ]
  },
  {
   "cell_type": "code",
   "execution_count": 97,
   "id": "0c1df9e8",
   "metadata": {},
   "outputs": [
    {
     "data": {
      "text/plain": [
       "[]"
      ]
     },
     "execution_count": 97,
     "metadata": {},
     "output_type": "execute_result"
    }
   ],
   "source": [
    "age1"
   ]
  },
  {
   "cell_type": "code",
   "execution_count": 98,
   "id": "ad7f25cb",
   "metadata": {},
   "outputs": [],
   "source": [
    "del age1"
   ]
  },
  {
   "cell_type": "code",
   "execution_count": 99,
   "id": "72a97484",
   "metadata": {},
   "outputs": [],
   "source": [
    "age.reverse()"
   ]
  },
  {
   "cell_type": "code",
   "execution_count": 100,
   "id": "a4ee1bc1",
   "metadata": {},
   "outputs": [
    {
     "data": {
      "text/plain": [
       "[150, 140, 130, 120, 110, 100, 90, 80, 70, 60, 50, 40, 30, 20, 10, 1]"
      ]
     },
     "execution_count": 100,
     "metadata": {},
     "output_type": "execute_result"
    }
   ],
   "source": [
    "age"
   ]
  },
  {
   "cell_type": "code",
   "execution_count": 101,
   "id": "af73cf1d",
   "metadata": {},
   "outputs": [],
   "source": [
    "age.sort()"
   ]
  },
  {
   "cell_type": "code",
   "execution_count": 102,
   "id": "630ceafd",
   "metadata": {},
   "outputs": [
    {
     "data": {
      "text/plain": [
       "[1, 10, 20, 30, 40, 50, 60, 70, 80, 90, 100, 110, 120, 130, 140, 150]"
      ]
     },
     "execution_count": 102,
     "metadata": {},
     "output_type": "execute_result"
    }
   ],
   "source": [
    "age"
   ]
  },
  {
   "cell_type": "code",
   "execution_count": 103,
   "id": "80012fc5",
   "metadata": {},
   "outputs": [],
   "source": [
    "age.reverse()"
   ]
  },
  {
   "cell_type": "code",
   "execution_count": 104,
   "id": "c7b527fc",
   "metadata": {},
   "outputs": [
    {
     "data": {
      "text/plain": [
       "[150, 140, 130, 120, 110, 100, 90, 80, 70, 60, 50, 40, 30, 20, 10, 1]"
      ]
     },
     "execution_count": 104,
     "metadata": {},
     "output_type": "execute_result"
    }
   ],
   "source": [
    "age"
   ]
  },
  {
   "cell_type": "markdown",
   "id": "47af5042",
   "metadata": {},
   "source": [
    "                                               TUPPLES "
   ]
  },
  {
   "cell_type": "code",
   "execution_count": 105,
   "id": "9554b8f3",
   "metadata": {},
   "outputs": [],
   "source": [
    "tupple1=(200,210,220,230,240,250)   #immutable ie; can't be editted.\n",
    "                                    # use simple brackets."
   ]
  },
  {
   "cell_type": "code",
   "execution_count": 106,
   "id": "5403c8a9",
   "metadata": {},
   "outputs": [
    {
     "data": {
      "text/plain": [
       "tuple"
      ]
     },
     "execution_count": 106,
     "metadata": {},
     "output_type": "execute_result"
    }
   ],
   "source": [
    "type(tupple1)"
   ]
  },
  {
   "cell_type": "code",
   "execution_count": 107,
   "id": "1d1018d7",
   "metadata": {},
   "outputs": [
    {
     "data": {
      "text/plain": [
       "200"
      ]
     },
     "execution_count": 107,
     "metadata": {},
     "output_type": "execute_result"
    }
   ],
   "source": [
    "min(tupple1)"
   ]
  },
  {
   "cell_type": "code",
   "execution_count": 108,
   "id": "c9a6df12",
   "metadata": {},
   "outputs": [
    {
     "data": {
      "text/plain": [
       "250"
      ]
     },
     "execution_count": 108,
     "metadata": {},
     "output_type": "execute_result"
    }
   ],
   "source": [
    "max(tupple1)"
   ]
  },
  {
   "cell_type": "code",
   "execution_count": 109,
   "id": "14b595ce",
   "metadata": {},
   "outputs": [
    {
     "data": {
      "text/plain": [
       "6"
      ]
     },
     "execution_count": 109,
     "metadata": {},
     "output_type": "execute_result"
    }
   ],
   "source": [
    "len(tupple1)"
   ]
  },
  {
   "cell_type": "markdown",
   "id": "cc590d17",
   "metadata": {},
   "source": [
    "tupple1.count()"
   ]
  },
  {
   "cell_type": "code",
   "execution_count": 110,
   "id": "7103e418",
   "metadata": {},
   "outputs": [
    {
     "data": {
      "text/plain": [
       "1350"
      ]
     },
     "execution_count": 110,
     "metadata": {},
     "output_type": "execute_result"
    }
   ],
   "source": [
    "sum(tupple1)"
   ]
  },
  {
   "cell_type": "code",
   "execution_count": 111,
   "id": "eb206e98",
   "metadata": {},
   "outputs": [],
   "source": [
    "del(tupple1)"
   ]
  },
  {
   "cell_type": "code",
   "execution_count": 112,
   "id": "bc79031a",
   "metadata": {},
   "outputs": [],
   "source": [
    "tupple1=(200,210,220,230,240,250) "
   ]
  },
  {
   "cell_type": "code",
   "execution_count": 113,
   "id": "b8cd4031",
   "metadata": {},
   "outputs": [
    {
     "data": {
      "text/plain": [
       "(200, 210, 220, 230, 240, 250)"
      ]
     },
     "execution_count": 113,
     "metadata": {},
     "output_type": "execute_result"
    }
   ],
   "source": [
    "tupple1"
   ]
  },
  {
   "cell_type": "code",
   "execution_count": 114,
   "id": "0a621207",
   "metadata": {},
   "outputs": [],
   "source": [
    "list1=list(tupple1)"
   ]
  },
  {
   "cell_type": "code",
   "execution_count": 115,
   "id": "b0c30d5c",
   "metadata": {},
   "outputs": [
    {
     "data": {
      "text/plain": [
       "[200, 210, 220, 230, 240, 250]"
      ]
     },
     "execution_count": 115,
     "metadata": {},
     "output_type": "execute_result"
    }
   ],
   "source": [
    "list1"
   ]
  }
 ],
 "metadata": {
  "kernelspec": {
   "display_name": "Python 3 (ipykernel)",
   "language": "python",
   "name": "python3"
  },
  "language_info": {
   "codemirror_mode": {
    "name": "ipython",
    "version": 3
   },
   "file_extension": ".py",
   "mimetype": "text/x-python",
   "name": "python",
   "nbconvert_exporter": "python",
   "pygments_lexer": "ipython3",
   "version": "3.10.13"
  }
 },
 "nbformat": 4,
 "nbformat_minor": 5
}

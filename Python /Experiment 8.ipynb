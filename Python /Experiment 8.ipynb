{
 "cells": [
  {
   "cell_type": "markdown",
   "id": "7d6bed20",
   "metadata": {},
   "source": [
    "# EXP 8"
   ]
  },
  {
   "cell_type": "markdown",
   "id": "76ad72d0",
   "metadata": {},
   "source": [
    "## USING RAW DATA"
   ]
  },
  {
   "cell_type": "code",
   "execution_count": 10,
   "id": "cf4f01e8",
   "metadata": {},
   "outputs": [
    {
     "name": "stdout",
     "output_type": "stream",
     "text": [
      "Enter the no of raw data elements5\n",
      "25\n",
      "30\n",
      "25\n",
      "35\n",
      "40\n",
      "[25, 30, 25, 35, 40]\n",
      "\n",
      "CENTRAL TENDENCY\n",
      "MEAN IS  31.0\n",
      "MODE IS  25\n",
      "MEDIAN IS  30.0\n",
      "DISPERSION\n",
      "RANGE IS  15\n",
      "VARIENCE IS  34.0\n",
      "STANDARD DEVIATION IS  5.830951894845301\n"
     ]
    }
   ],
   "source": [
    "import numpy as np\n",
    "import statistics as st\n",
    "\n",
    "data=[]\n",
    "n=int(input(\"Enter the no of raw data elements\"))\n",
    "for i in range (n):\n",
    "    a=int(input())\n",
    "    data.append(a)\n",
    "    \n",
    "print(data)    \n",
    "                               # CENTRAL TENDANCY \n",
    "\n",
    "#  MEAN\n",
    "\n",
    "mean = np.mean(data)\n",
    "\n",
    "#  MEDIAN\n",
    "\n",
    "median = np.median(data)\n",
    "\n",
    "#  MODE\n",
    "\n",
    "mode = st.mode(data)\n",
    "\n",
    "                                # DISPERSION\n",
    "\n",
    "\n",
    "\n",
    "#  RANGE\n",
    "\n",
    "rang = np.max(data)-np.min(data)\n",
    "\n",
    "#  VARIENCE\n",
    "\n",
    "varience = np.var(data)\n",
    "\n",
    "#  STANDARD DEVIATION\n",
    "\n",
    "std_deviation = np.std(data)\n",
    "\n",
    "print()\n",
    "print(\"CENTRAL TENDENCY\")\n",
    "print(\"MEAN IS \",mean)\n",
    "print(\"MODE IS \",mode)\n",
    "print(\"MEDIAN IS \",median)\n",
    "print(\"DISPERSION\")\n",
    "print(\"RANGE IS \",rang)\n",
    "print(\"VARIENCE IS \",varience)\n",
    "print(\"STANDARD DEVIATION IS \",std_deviation)"
   ]
  },
  {
   "cell_type": "code",
   "execution_count": null,
   "id": "a2309635",
   "metadata": {},
   "outputs": [],
   "source": []
  },
  {
   "cell_type": "code",
   "execution_count": null,
   "id": "088faed4",
   "metadata": {},
   "outputs": [],
   "source": []
  },
  {
   "cell_type": "markdown",
   "id": "c9f6ebb0",
   "metadata": {},
   "source": [
    "## USING GROUED DATA "
   ]
  },
  {
   "cell_type": "code",
   "execution_count": null,
   "id": "312ec323",
   "metadata": {},
   "outputs": [],
   "source": []
  },
  {
   "cell_type": "code",
   "execution_count": 14,
   "id": "b3a401fe",
   "metadata": {},
   "outputs": [
    {
     "name": "stdout",
     "output_type": "stream",
     "text": [
      "WEIGHTED MEAN IS  30.0\n",
      "VARIENCE IS  133.33333333333334\n",
      "STANDARD DEVIATION IS  11.547005383792516\n"
     ]
    }
   ],
   "source": [
    "import numpy as np\n",
    "#SAMPLE DATA\n",
    "\n",
    "data = np.array([10,20,30,40,50])\n",
    "freq = np.array([5,10,15,10,5])\n",
    "\n",
    "# MEAN\n",
    "\n",
    "mean = np.sum(data * freq) / np.sum(freq)\n",
    "\n",
    "# VARIENCE\n",
    "\n",
    "varience = np.sum(freq * (data - mean)**2)/np.sum(freq)\n",
    "\n",
    "# STD_DEVIATOIN\n",
    "\n",
    "std_deviation =np.sqrt(varience)\n",
    "\n",
    "\n",
    "print(\"WEIGHTED MEAN IS \",mean)\n",
    "print(\"VARIENCE IS \",varience)\n",
    "print(\"STANDARD DEVIATION IS \",std_deviation)"
   ]
  },
  {
   "cell_type": "code",
   "execution_count": null,
   "id": "b859d032",
   "metadata": {},
   "outputs": [],
   "source": []
  }
 ],
 "metadata": {
  "kernelspec": {
   "display_name": "Python 3 (ipykernel)",
   "language": "python",
   "name": "python3"
  },
  "language_info": {
   "codemirror_mode": {
    "name": "ipython",
    "version": 3
   },
   "file_extension": ".py",
   "mimetype": "text/x-python",
   "name": "python",
   "nbconvert_exporter": "python",
   "pygments_lexer": "ipython3",
   "version": "3.8.10"
  }
 },
 "nbformat": 4,
 "nbformat_minor": 5
}

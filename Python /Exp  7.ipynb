{
 "cells": [
  {
   "cell_type": "markdown",
   "id": "56db9452",
   "metadata": {},
   "source": [
    "# EXP 7"
   ]
  },
  {
   "cell_type": "markdown",
   "id": "a4feeea7",
   "metadata": {},
   "source": [
    "## 7.1 "
   ]
  },
  {
   "cell_type": "code",
   "execution_count": 21,
   "id": "566c423c",
   "metadata": {},
   "outputs": [
    {
     "name": "stdout",
     "output_type": "stream",
     "text": [
      "Enter the File name: num\n",
      "Enter the elements\n",
      "0 2 21 23 11\n",
      "2 23 11 \n",
      "location of file is : /home/s4ad2/Desktop/ps/num\n"
     ]
    }
   ],
   "source": [
    "import os\n",
    "\n",
    "fname=input(\"Enter the File name: \")\n",
    "with open(fname,\"w\") as f1:\n",
    "    print(\"Enter the elements\")\n",
    "    f1.write(input())\n",
    "    \n",
    "with open(fname,\"r\") as f2:\n",
    "    c=f2.read()\n",
    "    clist=c.split()\n",
    "    \n",
    "for i in range(0,len(clist)):\n",
    "    clist[i]=int(clist[i])\n",
    "    \n",
    "for i in clist:\n",
    "    flag = False\n",
    "    if i == 1:\n",
    "        print(\"1 is neither prime nor composite\")\n",
    "    if i == 2:\n",
    "        print(\"2\",end=' ')   \n",
    "    elif i>2:\n",
    "        for j in range (2,i):\n",
    "            if i%j==0:\n",
    "                flag =True\n",
    "                break\n",
    "        if flag ==False:\n",
    "            print(i,end=' ')\n",
    "# to get loction of file\n",
    "floc=os.path.abspath(fname)\n",
    "print(\"\\nlocation of file is :\",floc)"
   ]
  },
  {
   "cell_type": "code",
   "execution_count": null,
   "id": "2b151ca9",
   "metadata": {},
   "outputs": [],
   "source": []
  },
  {
   "cell_type": "markdown",
   "id": "dc06c799",
   "metadata": {},
   "source": [
    "## 7.2"
   ]
  },
  {
   "cell_type": "code",
   "execution_count": 35,
   "id": "10f62c80",
   "metadata": {},
   "outputs": [
    {
     "name": "stdout",
     "output_type": "stream",
     "text": [
      "Enter the File name: intro\n",
      "Enter the elements\n",
      "Hi How are 12345\n",
      "Number of digits in file : 5\n",
      "Number of Upper case charectors in file : 2\n",
      "Number of lower case charectors in file : 6\n"
     ]
    }
   ],
   "source": [
    "\n",
    "fname=input(\"Enter the File name: \")\n",
    "with open(fname,\"w\") as f1:\n",
    "    print(\"Enter the elements\")\n",
    "    f1.write(input())\n",
    "    \n",
    "    f1.close()\n",
    "    \n",
    "    \n",
    "with open(fname,\"r\") as f2:\n",
    "    c=f2.read()\n",
    "    clist=c.split()\n",
    "nc=0\n",
    "lc=0\n",
    "uc=0\n",
    "for i in c:\n",
    "    if (i.isupper()):\n",
    "        uc+=1\n",
    "    elif (i.islower()):\n",
    "        lc+=1\n",
    "    elif (i.isdigit()):\n",
    "        nc+=1    \n",
    "        \n",
    "print(\"Number of digits in file :\",nc)\n",
    "print(\"Number of Upper case charectors in file :\",uc)\n",
    "print(\"Number of lower case charectors in file :\",lc)"
   ]
  },
  {
   "cell_type": "code",
   "execution_count": null,
   "id": "9e8db1af",
   "metadata": {},
   "outputs": [],
   "source": []
  },
  {
   "cell_type": "code",
   "execution_count": null,
   "id": "101a1ab4",
   "metadata": {},
   "outputs": [],
   "source": []
  }
 ],
 "metadata": {
  "kernelspec": {
   "display_name": "Python 3 (ipykernel)",
   "language": "python",
   "name": "python3"
  },
  "language_info": {
   "codemirror_mode": {
    "name": "ipython",
    "version": 3
   },
   "file_extension": ".py",
   "mimetype": "text/x-python",
   "name": "python",
   "nbconvert_exporter": "python",
   "pygments_lexer": "ipython3",
   "version": "3.8.10"
  }
 },
 "nbformat": 4,
 "nbformat_minor": 5
}

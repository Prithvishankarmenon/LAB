{
 "cells": [
  {
   "cell_type": "code",
   "execution_count": 5,
   "id": "e7850a74",
   "metadata": {},
   "outputs": [
    {
     "name": "stdout",
     "output_type": "stream",
     "text": [
      "Enter the string :hello\n",
      "Not Palindrome\n"
     ]
    }
   ],
   "source": [
    "a = str(input('Enter the string :'))\n",
    "j=len(a)-1\n",
    "i=0\n",
    "flag=1\n",
    "while(i<j):\n",
    "    if(a[i]==a[j]):\n",
    "        i+=1\n",
    "        j-=1\n",
    "    else:\n",
    "        flag=0\n",
    "        i+=1\n",
    "        j-=1\n",
    "\n",
    "if(flag==0):\n",
    "    print('Not Palindrome')\n",
    "else:\n",
    "    print(\"Palindrome\")"
   ]
  },
  {
   "cell_type": "code",
   "execution_count": null,
   "id": "f8b061e1",
   "metadata": {},
   "outputs": [],
   "source": []
  },
  {
   "cell_type": "code",
   "execution_count": null,
   "id": "803094a1",
   "metadata": {},
   "outputs": [],
   "source": []
  },
  {
   "cell_type": "code",
   "execution_count": 24,
   "id": "d4e945d2",
   "metadata": {},
   "outputs": [
    {
     "name": "stdout",
     "output_type": "stream",
     "text": [
      "Enter the string :helllo\n",
      "Enter the charecters to be searched :ll\n",
      "1\n"
     ]
    }
   ],
   "source": [
    "a = str(input('Enter the string :'))\n",
    "b = str(input('Enter the charecters to be searched :'))\n",
    "\n",
    "no=a.count(b)\n",
    "\n",
    "print(no)        "
   ]
  },
  {
   "cell_type": "code",
   "execution_count": null,
   "id": "3383b484",
   "metadata": {},
   "outputs": [],
   "source": []
  },
  {
   "cell_type": "code",
   "execution_count": null,
   "id": "8c44b38b",
   "metadata": {},
   "outputs": [],
   "source": []
  },
  {
   "cell_type": "code",
   "execution_count": 23,
   "id": "00e1d853",
   "metadata": {},
   "outputs": [
    {
     "name": "stdout",
     "output_type": "stream",
     "text": [
      "Enter the string :hello\n",
      "Enter the to be replaced :o\n",
      "Enter the to be replaced with :a\n",
      "hella\n"
     ]
    }
   ],
   "source": [
    "a = str(input('Enter the string :'))\n",
    "b = str(input('Enter the charecter to be replaced :'))\n",
    "c = str(input('Enter the charecter to be replaced with :'))\n",
    "  \n",
    "z = a.replace(b,c)\n",
    "print(z)     "
   ]
  },
  {
   "cell_type": "code",
   "execution_count": null,
   "id": "dd3810da",
   "metadata": {},
   "outputs": [],
   "source": []
  },
  {
   "cell_type": "markdown",
   "id": "43a14a34",
   "metadata": {},
   "source": [
    "# Exp 4"
   ]
  },
  {
   "cell_type": "code",
   "execution_count": null,
   "id": "b7f776d7",
   "metadata": {},
   "outputs": [],
   "source": []
  },
  {
   "cell_type": "code",
   "execution_count": 38,
   "id": "f3cab3ef",
   "metadata": {},
   "outputs": [
    {
     "name": "stdout",
     "output_type": "stream",
     "text": [
      "Enter the no of rows in matrix :2\n",
      "Enter the no of columns in matrix :2\n",
      "Enter elements of 1st matrix\n",
      "1\n",
      "1\n",
      "2\n",
      "2\n",
      "[[1, 1], [2, 2]]\n",
      "Enter elements of 2nd matrix\n",
      "1\n",
      "1\n",
      "2\n",
      "2\n",
      "[[1, 1], [2, 2]]\n",
      "[[2, 2], [4, 4]]\n"
     ]
    }
   ],
   "source": [
    "r = int(input('Enter the no of rows in matrix :'))\n",
    "c = int(input('Enter the no of columns in matrix :'))\n",
    "\n",
    "print(\"Enter elements of 1st matrix\")\n",
    "a=[[int(input()) for i in range(c)]for i in range(r)]\n",
    "print(a)\n",
    "\n",
    "print(\"Enter elements of 2nd matrix\")\n",
    "b=[[int(input()) for i in range(c)]for i in range(r)]\n",
    "print(b)\n",
    "    \n",
    "z=[[0 for i in range(c)]for j in range(r)]\n",
    "\n",
    "for i in range(r):\n",
    "    for j in range(c):\n",
    "        z[i][j]=a[i][j]+b[i][j]\n",
    "            \n",
    "\n",
    "print(z)"
   ]
  },
  {
   "cell_type": "markdown",
   "id": "d88816ea",
   "metadata": {},
   "source": [
    "# "
   ]
  },
  {
   "cell_type": "code",
   "execution_count": null,
   "id": "595ae5df",
   "metadata": {},
   "outputs": [],
   "source": []
  },
  {
   "cell_type": "code",
   "execution_count": null,
   "id": "be937fdb",
   "metadata": {},
   "outputs": [],
   "source": []
  },
  {
   "cell_type": "code",
   "execution_count": 42,
   "id": "93f29bcd",
   "metadata": {},
   "outputs": [
    {
     "name": "stdout",
     "output_type": "stream",
     "text": [
      "Enter the no of elements in list :5\n",
      "Enter the numbers\n",
      "1\n",
      "2\n",
      "2\n",
      "2\n",
      "3\n",
      "Enter the number to be eleminated from list :2\n",
      "[1, 3]\n"
     ]
    }
   ],
   "source": [
    "n = int(input('Enter the no of elements in list :'))\n",
    "num=[]\n",
    "print(\"Enter the numbers\")\n",
    "for i in range(n):\n",
    "    num.append(int(input()))\n",
    "r = int(input('Enter the number to be eleminated from list :'))\n",
    "while(r in num):\n",
    "    num.remove(r)\n",
    "    \n",
    "print(num)"
   ]
  },
  {
   "cell_type": "code",
   "execution_count": null,
   "id": "a8b7dea9",
   "metadata": {},
   "outputs": [],
   "source": []
  }
 ],
 "metadata": {
  "kernelspec": {
   "display_name": "Python 3 (ipykernel)",
   "language": "python",
   "name": "python3"
  },
  "language_info": {
   "codemirror_mode": {
    "name": "ipython",
    "version": 3
   },
   "file_extension": ".py",
   "mimetype": "text/x-python",
   "name": "python",
   "nbconvert_exporter": "python",
   "pygments_lexer": "ipython3",
   "version": "3.8.10"
  }
 },
 "nbformat": 4,
 "nbformat_minor": 5
}

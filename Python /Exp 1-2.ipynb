{
 "cells": [
  {
   "cell_type": "code",
   "execution_count": 6,
   "id": "f8fa2321",
   "metadata": {},
   "outputs": [
    {
     "name": "stdout",
     "output_type": "stream",
     "text": [
      "Enter number 1 :5\n",
      "Enter number 2 :4\n",
      "Enter number 3 :3\n",
      "The Largest number is  5\n"
     ]
    }
   ],
   "source": [
    "a = int(input('Enter number 1 :'))\n",
    "b = int(input('Enter number 2 :'))\n",
    "c = int(input('Enter number 3 :'))\n",
    "\n",
    "\n",
    "if a >= b and a >= c:\n",
    "       print('The Largest number is ',a)\n",
    "elif b >= a and b >= c:\n",
    "        print('The Largest number is ',b)\n",
    "else:\n",
    "        print('The Largest number is ',c)"
   ]
  },
  {
   "cell_type": "code",
   "execution_count": 12,
   "id": "5ca8ef3a",
   "metadata": {},
   "outputs": [
    {
     "name": "stdout",
     "output_type": "stream",
     "text": [
      "Enter number whose multiplication table is needed :5\n",
      "Enter the number of times needed to multiply :10\n",
      "5  *  0  =  0\n",
      "5  *  1  =  5\n",
      "5  *  2  =  10\n",
      "5  *  3  =  15\n",
      "5  *  4  =  20\n",
      "5  *  5  =  25\n",
      "5  *  6  =  30\n",
      "5  *  7  =  35\n",
      "5  *  8  =  40\n",
      "5  *  9  =  45\n",
      "5  *  10  =  50\n"
     ]
    }
   ],
   "source": [
    "a = int(input('Enter number whose multiplication table is needed :'))\n",
    "b = int(input('Enter the number of times needed to multiply :'))\n",
    "c=0\n",
    "i=0\n",
    "while i<b+1:\n",
    "    print(a ,' * ', c ,' = ', a*c)\n",
    "    c=c+1\n",
    "    i=i+1"
   ]
  },
  {
   "cell_type": "code",
   "execution_count": 20,
   "id": "3d8df910",
   "metadata": {},
   "outputs": [
    {
     "name": "stdout",
     "output_type": "stream",
     "text": [
      "Enter starting number of range :1\n",
      "Enter ending number of range  :10\n",
      "The sum of the range is 55\n"
     ]
    }
   ],
   "source": [
    "a = int(input('Enter starting number of range :'))\n",
    "b = int(input('Enter ending number of range  :'))\n",
    "s=0\n",
    "while a <= b:\n",
    "    s=s+a\n",
    "    a=a+1\n",
    "print('The sum of the range is',s)    "
   ]
  },
  {
   "cell_type": "code",
   "execution_count": null,
   "id": "97e5fde2",
   "metadata": {},
   "outputs": [],
   "source": []
  },
  {
   "cell_type": "markdown",
   "id": "9cb46d9a",
   "metadata": {},
   "source": [
    "# EXP 2"
   ]
  },
  {
   "cell_type": "code",
   "execution_count": 18,
   "id": "3acf1cdc",
   "metadata": {},
   "outputs": [],
   "source": [
    "def largest1(a,b,c):\n",
    "    if a >= b and a >= c:\n",
    "        return a\n",
    "    elif b >= a and b >= c:\n",
    "        return b\n",
    "    else:\n",
    "        return c\n",
    "        "
   ]
  },
  {
   "cell_type": "code",
   "execution_count": 19,
   "id": "6a6bf78c",
   "metadata": {},
   "outputs": [
    {
     "name": "stdout",
     "output_type": "stream",
     "text": [
      "Enter number 1 :2\n",
      "Enter number 2 :3\n",
      "Enter number 3 :4\n",
      "The Largest number is  4\n"
     ]
    }
   ],
   "source": [
    "a = int(input('Enter number 1 :'))\n",
    "b = int(input('Enter number 2 :'))\n",
    "c = int(input('Enter number 3 :'))\n",
    "\n",
    "\n",
    "print('The Largest number is ',largest1(a,b,c))"
   ]
  },
  {
   "cell_type": "code",
   "execution_count": null,
   "id": "67e937ec",
   "metadata": {},
   "outputs": [],
   "source": []
  },
  {
   "cell_type": "code",
   "execution_count": 26,
   "id": "170778b2",
   "metadata": {},
   "outputs": [],
   "source": [
    "def fact1(a,i):\n",
    "    if(a==1):\n",
    "        return i\n",
    "    else:\n",
    "        i=i*a\n",
    "        a=a-1\n",
    "        return(fact1(a,i))\n",
    "        \n"
   ]
  },
  {
   "cell_type": "code",
   "execution_count": 27,
   "id": "1593e6e4",
   "metadata": {},
   "outputs": [
    {
     "name": "stdout",
     "output_type": "stream",
     "text": [
      "Enter number whose factorial has to be found3\n",
      "Factorial is   6\n"
     ]
    }
   ],
   "source": [
    "a = int(input('Enter number whose factorial has to be found'))\n",
    "i=fact1(a,1)\n",
    "print(\"Factorial is  \",i)"
   ]
  },
  {
   "cell_type": "code",
   "execution_count": null,
   "id": "6b450d2e",
   "metadata": {},
   "outputs": [],
   "source": []
  },
  {
   "cell_type": "code",
   "execution_count": 35,
   "id": "b124257e",
   "metadata": {},
   "outputs": [],
   "source": [
    "def fib1(i):\n",
    "    if(i==0):\n",
    "        print(\"\")\n",
    "    elif (i==1):\n",
    "        print(\"0\")\n",
    "    elif (i==2):\n",
    "        print(\"0 1\")\n",
    "    elif (i>2):\n",
    "        a=0\n",
    "        print(a)\n",
    "        b=1\n",
    "        print(b)\n",
    "        c=a+b\n",
    "        while (i>=c):\n",
    "            print(c)\n",
    "            a=b\n",
    "            b=c\n",
    "            c=a+b\n",
    "        "
   ]
  },
  {
   "cell_type": "code",
   "execution_count": 40,
   "id": "1a967275",
   "metadata": {},
   "outputs": [
    {
     "name": "stdout",
     "output_type": "stream",
     "text": [
      "Enter the limit :6\n",
      "0\n",
      "1\n",
      "1\n",
      "2\n",
      "3\n",
      "5\n"
     ]
    }
   ],
   "source": [
    "a = int(input('Enter the limit :'))\n",
    "fib1(a)"
   ]
  },
  {
   "cell_type": "code",
   "execution_count": null,
   "id": "f89a3d18",
   "metadata": {},
   "outputs": [],
   "source": []
  },
  {
   "cell_type": "code",
   "execution_count": 37,
   "id": "963363b9",
   "metadata": {},
   "outputs": [],
   "source": [
    "def cycl(r,h):\n",
    "    s=((2*3.14*r)+(3.14*2*r*h))\n",
    "    print('The surface area of cylinder is ',s)\n",
    "    v=(3.14*r*r*h)\n",
    "    print('The volume of cylinder is ',v)\n",
    "    "
   ]
  },
  {
   "cell_type": "code",
   "execution_count": 38,
   "id": "429ce250",
   "metadata": {},
   "outputs": [
    {
     "name": "stdout",
     "output_type": "stream",
     "text": [
      "Enter radius of cylinder :1\n",
      "Enter height of cylinder :1\n",
      "The surface area of cylinder is  12.56\n",
      "The volume of cylinder is  3.14\n"
     ]
    }
   ],
   "source": [
    "a = float(input('Enter radius of cylinder :'))\n",
    "b = float(input('Enter height of cylinder :'))\n",
    "cycl(a,b)"
   ]
  },
  {
   "cell_type": "code",
   "execution_count": null,
   "id": "1a8d3e48",
   "metadata": {},
   "outputs": [],
   "source": []
  }
 ],
 "metadata": {
  "kernelspec": {
   "display_name": "Python 3 (ipykernel)",
   "language": "python",
   "name": "python3"
  },
  "language_info": {
   "codemirror_mode": {
    "name": "ipython",
    "version": 3
   },
   "file_extension": ".py",
   "mimetype": "text/x-python",
   "name": "python",
   "nbconvert_exporter": "python",
   "pygments_lexer": "ipython3",
   "version": "3.8.10"
  }
 },
 "nbformat": 4,
 "nbformat_minor": 5
}

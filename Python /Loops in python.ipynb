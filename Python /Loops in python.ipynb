{
 "cells": [
  {
   "cell_type": "markdown",
   "id": "29f387d6",
   "metadata": {},
   "source": [
    "#  Loops in Python"
   ]
  },
  {
   "cell_type": "markdown",
   "id": "d047c7a0",
   "metadata": {},
   "source": [
    "## For "
   ]
  },
  {
   "cell_type": "code",
   "execution_count": null,
   "id": "d2fa2422",
   "metadata": {},
   "outputs": [],
   "source": []
  },
  {
   "cell_type": "code",
   "execution_count": 3,
   "id": "cdfe6c6d",
   "metadata": {},
   "outputs": [],
   "source": [
    "mylist=[\"white\",\"hello\",\"shadow\",\"apple\",\"grapes\",\"rain\"]"
   ]
  },
  {
   "cell_type": "code",
   "execution_count": 4,
   "id": "cf6d17d4",
   "metadata": {
    "scrolled": true
   },
   "outputs": [
    {
     "name": "stdout",
     "output_type": "stream",
     "text": [
      "white\n",
      "hello\n",
      "shadow\n",
      "apple\n",
      "grapes\n",
      "rain\n"
     ]
    }
   ],
   "source": [
    "for i in mylist:\n",
    "    print(i)"
   ]
  },
  {
   "cell_type": "code",
   "execution_count": 5,
   "id": "2858012e",
   "metadata": {
    "scrolled": true
   },
   "outputs": [
    {
     "name": "stdout",
     "output_type": "stream",
     "text": [
      "Hi white bye\n",
      "Hi hello bye\n",
      "Hi shadow bye\n",
      "Hi apple bye\n",
      "Hi grapes bye\n",
      "Hi rain bye\n"
     ]
    }
   ],
   "source": [
    "for i in mylist:\n",
    "    print('Hi',i,'bye')"
   ]
  },
  {
   "cell_type": "code",
   "execution_count": 6,
   "id": "c7ef85b7",
   "metadata": {},
   "outputs": [],
   "source": [
    "mylist2=[1,2,3,4,5,6]"
   ]
  },
  {
   "cell_type": "code",
   "execution_count": 7,
   "id": "d0441aeb",
   "metadata": {},
   "outputs": [
    {
     "name": "stdout",
     "output_type": "stream",
     "text": [
      "hi white your id is 1\n",
      "hi hello your id is 2\n",
      "hi shadow your id is 3\n",
      "hi apple your id is 4\n",
      "hi grapes your id is 5\n",
      "hi rain your id is 6\n"
     ]
    }
   ],
   "source": [
    "for (s,r) in zip (mylist,mylist2):\n",
    "    print('hi',s,'your id is',r)"
   ]
  },
  {
   "cell_type": "code",
   "execution_count": 9,
   "id": "1ff0c213",
   "metadata": {},
   "outputs": [
    {
     "data": {
      "text/plain": [
       "[0, 1, 2, 3, 4, 5, 6, 7, 8, 9, 10, 11, 12, 13, 14]"
      ]
     },
     "execution_count": 9,
     "metadata": {},
     "output_type": "execute_result"
    }
   ],
   "source": [
    "list(range(0,15))"
   ]
  },
  {
   "cell_type": "code",
   "execution_count": 10,
   "id": "d8b4033c",
   "metadata": {},
   "outputs": [
    {
     "data": {
      "text/plain": [
       "[0, 5, 10]"
      ]
     },
     "execution_count": 10,
     "metadata": {},
     "output_type": "execute_result"
    }
   ],
   "source": [
    "list(range(0,15,5))"
   ]
  },
  {
   "cell_type": "code",
   "execution_count": 11,
   "id": "5a3fe3eb",
   "metadata": {},
   "outputs": [],
   "source": [
    "newlist=list(range(0,15,3))"
   ]
  },
  {
   "cell_type": "code",
   "execution_count": 12,
   "id": "19f7f9d3",
   "metadata": {},
   "outputs": [
    {
     "data": {
      "text/plain": [
       "[0, 3, 6, 9, 12]"
      ]
     },
     "execution_count": 12,
     "metadata": {},
     "output_type": "execute_result"
    }
   ],
   "source": [
    "newlist"
   ]
  },
  {
   "cell_type": "code",
   "execution_count": null,
   "id": "3ea9ef5d",
   "metadata": {},
   "outputs": [],
   "source": []
  },
  {
   "cell_type": "markdown",
   "id": "338c50d1",
   "metadata": {},
   "source": [
    "# # While"
   ]
  },
  {
   "cell_type": "code",
   "execution_count": null,
   "id": "3d000aa5",
   "metadata": {},
   "outputs": [],
   "source": []
  },
  {
   "cell_type": "code",
   "execution_count": 14,
   "id": "c83b70fb",
   "metadata": {},
   "outputs": [
    {
     "name": "stdout",
     "output_type": "stream",
     "text": [
      "1\n",
      "2\n",
      "3\n",
      "4\n"
     ]
    }
   ],
   "source": [
    "i=1\n",
    "while i<5:\n",
    "    print (i)\n",
    "    i+=1"
   ]
  },
  {
   "cell_type": "code",
   "execution_count": 16,
   "id": "98febeda",
   "metadata": {},
   "outputs": [
    {
     "name": "stdout",
     "output_type": "stream",
     "text": [
      "1\n",
      "2\n",
      "3\n",
      "4\n",
      "5\n",
      "i is greater than 5\n"
     ]
    }
   ],
   "source": [
    "i=1\n",
    "while i<=5:\n",
    "    print (i)\n",
    "    i+=1\n",
    "else: \n",
    " print(\"i is greater than 5\")"
   ]
  },
  {
   "cell_type": "code",
   "execution_count": null,
   "id": "7c979bf1",
   "metadata": {},
   "outputs": [],
   "source": []
  },
  {
   "cell_type": "markdown",
   "id": "e851360f",
   "metadata": {},
   "source": [
    "# # Control Structure\n"
   ]
  },
  {
   "cell_type": "code",
   "execution_count": null,
   "id": "fa9dc82e",
   "metadata": {},
   "outputs": [],
   "source": []
  },
  {
   "cell_type": "code",
   "execution_count": 18,
   "id": "ab497a35",
   "metadata": {},
   "outputs": [
    {
     "name": "stdout",
     "output_type": "stream",
     "text": [
      "The number X is lesser than 50\n",
      "The number X is 50\n",
      "The number X is greater than 50\n"
     ]
    }
   ],
   "source": [
    "\n",
    "check=[25,50,75]\n",
    "for x in check:\n",
    "  if x > 50:\n",
    "     print(\"The number X is greater than 50\")\n",
    "  elif x < 50:\n",
    "     print(\"The number X is lesser than 50\")\n",
    "  else:\n",
    "     print(\"The number X is 50\")"
   ]
  },
  {
   "cell_type": "code",
   "execution_count": null,
   "id": "53cc0676",
   "metadata": {},
   "outputs": [],
   "source": []
  },
  {
   "cell_type": "markdown",
   "id": "ab18938e",
   "metadata": {},
   "source": [
    "##  Dictionary"
   ]
  },
  {
   "cell_type": "code",
   "execution_count": null,
   "id": "f99f9908",
   "metadata": {},
   "outputs": [],
   "source": []
  },
  {
   "cell_type": "code",
   "execution_count": 21,
   "id": "8e50c95e",
   "metadata": {},
   "outputs": [],
   "source": [
    "mydictionary={ \n",
    "    'Rollno':[1,2,3,4,5],\n",
    "    'Name':['hi','hello','how','are','you'],\n",
    "    'Class':['N','S','E','W','N']\n",
    "}"
   ]
  },
  {
   "cell_type": "code",
   "execution_count": 22,
   "id": "aac7dc93",
   "metadata": {},
   "outputs": [
    {
     "data": {
      "text/plain": [
       "{'Rollno': [1, 2, 3, 4, 5],\n",
       " 'Name': ['hi', 'hello', 'how', 'are', 'you'],\n",
       " 'Class': ['N', 'S', 'E', 'W', 'N']}"
      ]
     },
     "execution_count": 22,
     "metadata": {},
     "output_type": "execute_result"
    }
   ],
   "source": [
    "mydictionary"
   ]
  },
  {
   "cell_type": "code",
   "execution_count": 23,
   "id": "89ba2ba8",
   "metadata": {},
   "outputs": [
    {
     "data": {
      "text/plain": [
       "['N', 'S', 'E', 'W', 'N']"
      ]
     },
     "execution_count": 23,
     "metadata": {},
     "output_type": "execute_result"
    }
   ],
   "source": [
    "mydictionary['Class']"
   ]
  },
  {
   "cell_type": "code",
   "execution_count": 35,
   "id": "d6b17e40",
   "metadata": {},
   "outputs": [],
   "source": [
    "mydictionary['Class'][2]='W'"
   ]
  },
  {
   "cell_type": "code",
   "execution_count": 37,
   "id": "83626dbd",
   "metadata": {},
   "outputs": [
    {
     "data": {
      "text/plain": [
       "{'Rollno': [1, 2, 3, 4, 5],\n",
       " 'Name': ['hi', 'hello', 'how', 'are', 'you'],\n",
       " 'Class': ['N', 'E', 'W', 'S', 'N']}"
      ]
     },
     "execution_count": 37,
     "metadata": {},
     "output_type": "execute_result"
    }
   ],
   "source": [
    "mydictionary"
   ]
  },
  {
   "cell_type": "code",
   "execution_count": 38,
   "id": "cfdd962e",
   "metadata": {},
   "outputs": [
    {
     "data": {
      "text/plain": [
       "dict_keys(['Rollno', 'Name', 'Class'])"
      ]
     },
     "execution_count": 38,
     "metadata": {},
     "output_type": "execute_result"
    }
   ],
   "source": [
    "mydictionary.keys()\n"
   ]
  },
  {
   "cell_type": "code",
   "execution_count": 39,
   "id": "9841f2aa",
   "metadata": {},
   "outputs": [
    {
     "data": {
      "text/plain": [
       "dict_values([[1, 2, 3, 4, 5], ['hi', 'hello', 'how', 'are', 'you'], ['N', 'E', 'W', 'S', 'N']])"
      ]
     },
     "execution_count": 39,
     "metadata": {},
     "output_type": "execute_result"
    }
   ],
   "source": [
    "mydictionary.values()\n"
   ]
  },
  {
   "cell_type": "code",
   "execution_count": 41,
   "id": "ad6f236e",
   "metadata": {},
   "outputs": [
    {
     "data": {
      "text/plain": [
       "['N', 'E', 'W', 'S', 'N']"
      ]
     },
     "execution_count": 41,
     "metadata": {},
     "output_type": "execute_result"
    }
   ],
   "source": [
    "mydictionary.pop('Class')\n"
   ]
  },
  {
   "cell_type": "code",
   "execution_count": 42,
   "id": "d41fd640",
   "metadata": {},
   "outputs": [
    {
     "data": {
      "text/plain": [
       "{'Rollno': [1, 2, 3, 4, 5], 'Name': ['hi', 'hello', 'how', 'are', 'you']}"
      ]
     },
     "execution_count": 42,
     "metadata": {},
     "output_type": "execute_result"
    }
   ],
   "source": [
    "mydictionary\n"
   ]
  },
  {
   "cell_type": "code",
   "execution_count": 43,
   "id": "c68c693e",
   "metadata": {},
   "outputs": [
    {
     "data": {
      "text/plain": [
       "dict_keys(['Rollno', 'Name'])"
      ]
     },
     "execution_count": 43,
     "metadata": {},
     "output_type": "execute_result"
    }
   ],
   "source": [
    "mydictionary.keys()"
   ]
  },
  {
   "cell_type": "code",
   "execution_count": null,
   "id": "d21c7724",
   "metadata": {},
   "outputs": [],
   "source": []
  },
  {
   "cell_type": "markdown",
   "id": "5b339a67",
   "metadata": {},
   "source": [
    "# User Defined Function"
   ]
  },
  {
   "cell_type": "code",
   "execution_count": 44,
   "id": "66c251c1",
   "metadata": {},
   "outputs": [],
   "source": [
    "def printme(str):\n",
    "    print(str)\n",
    "    return"
   ]
  },
  {
   "cell_type": "code",
   "execution_count": 45,
   "id": "537d1d8f",
   "metadata": {},
   "outputs": [
    {
     "name": "stdout",
     "output_type": "stream",
     "text": [
      "hi\n"
     ]
    }
   ],
   "source": [
    "printme('hi')"
   ]
  },
  {
   "cell_type": "code",
   "execution_count": 46,
   "id": "66c76c0d",
   "metadata": {},
   "outputs": [
    {
     "name": "stdout",
     "output_type": "stream",
     "text": [
      "gjgjhgkjhljkljlh\n"
     ]
    }
   ],
   "source": [
    "printme('gjgjhgkjhljkljlh')"
   ]
  },
  {
   "cell_type": "code",
   "execution_count": 48,
   "id": "c9ccddaf",
   "metadata": {},
   "outputs": [],
   "source": [
    "def largest(a,b,c):\n",
    "    if a >= b:\n",
    "        max = a\n",
    "        if a >= c:\n",
    "            max = a\n",
    "        else:\n",
    "            max = b\n",
    "    else:\n",
    "        max = b\n",
    "        if b >= c:\n",
    "            max = b\n",
    "        else:\n",
    "            max = c\n",
    "    print(max)        \n",
    "    return         "
   ]
  },
  {
   "cell_type": "code",
   "execution_count": 50,
   "id": "1859361b",
   "metadata": {},
   "outputs": [
    {
     "name": "stdout",
     "output_type": "stream",
     "text": [
      "5\n"
     ]
    }
   ],
   "source": [
    "largest(5,2,3)"
   ]
  },
  {
   "cell_type": "code",
   "execution_count": 61,
   "id": "f3f72dd7",
   "metadata": {},
   "outputs": [],
   "source": [
    "def largest1(a,b,c):\n",
    "    if a >= b and a >= c:\n",
    "        return a\n",
    "    elif b >= a and b >= c:\n",
    "        return b\n",
    "    else:\n",
    "        return c\n",
    "        \n",
    "     "
   ]
  },
  {
   "cell_type": "code",
   "execution_count": 52,
   "id": "1b0d4754",
   "metadata": {},
   "outputs": [
    {
     "name": "stdout",
     "output_type": "stream",
     "text": [
      "6\n"
     ]
    }
   ],
   "source": [
    "largest1(4,2,6)"
   ]
  },
  {
   "cell_type": "code",
   "execution_count": 55,
   "id": "1b36fad2",
   "metadata": {},
   "outputs": [],
   "source": [
    "def fact(a):\n",
    "    s=1\n",
    "    while a > 0:\n",
    "     s = s * a\n",
    "     a = a - 1\n",
    "    print(s)\n",
    "    return"
   ]
  },
  {
   "cell_type": "code",
   "execution_count": 56,
   "id": "4d6a8b56",
   "metadata": {},
   "outputs": [
    {
     "name": "stdout",
     "output_type": "stream",
     "text": [
      "24\n"
     ]
    }
   ],
   "source": [
    "fact(4)"
   ]
  },
  {
   "cell_type": "code",
   "execution_count": 63,
   "id": "969cbb92",
   "metadata": {},
   "outputs": [
    {
     "name": "stdout",
     "output_type": "stream",
     "text": [
      "Enter number 1 :33\n",
      "Enter number 2 :55\n",
      "Enter number 3 :11\n",
      "The Largest number is  55\n"
     ]
    }
   ],
   "source": [
    "a = int(input('Enter number 1 :'))\n",
    "b = int(input('Enter number 2 :'))\n",
    "c = int(input('Enter number 3 :'))\n",
    "\n",
    "\n",
    "print('The Largest number is ',largest1(a,b,c))"
   ]
  },
  {
   "cell_type": "code",
   "execution_count": null,
   "id": "b6814fb1",
   "metadata": {},
   "outputs": [],
   "source": []
  },
  {
   "cell_type": "markdown",
   "id": "8144aea0",
   "metadata": {},
   "source": [
    "#  PLOT"
   ]
  },
  {
   "cell_type": "code",
   "execution_count": null,
   "id": "7e0a4345",
   "metadata": {},
   "outputs": [],
   "source": []
  },
  {
   "cell_type": "code",
   "execution_count": 74,
   "id": "629d46d2",
   "metadata": {},
   "outputs": [
    {
     "data": {
      "image/png": "[encoded data removed]",
      "text/plain": [
       "<Figure size 640x480 with 1 Axes>"
      ]
     },
     "metadata": {},
     "output_type": "display_data"
    }
   ],
   "source": [
    "import matplotlib.pyplot as plt\n",
    "x_data = (1,2,3,4,5,6)\n",
    "y_data = (2,4,6,8,10,12)\n",
    "z_data = (4,8,12,16,20,24)\n",
    "plt.plot(x_data,y_data)\n",
    "plt.plot(x_data,z_data)\n",
    "plt.xlabel(\"1 table\")\n",
    "plt.ylabel(\"2 table\")\n",
    "plt.legend([\"x vs y\",\"x vs z\"])\n",
    "plt.title(\"Plot Title\")\n",
    "plt.show()"
   ]
  },
  {
   "cell_type": "code",
   "execution_count": 80,
   "id": "c35dfce1",
   "metadata": {},
   "outputs": [
    {
     "data": {
      "image/png": "[encoded data removed]",
      "text/plain": [
       "<Figure size 640x480 with 1 Axes>"
      ]
     },
     "metadata": {},
     "output_type": "display_data"
    }
   ],
   "source": [
    "import matplotlib.pyplot as plt\n",
    "\n",
    "catagories = ['A','B','C','D']\n",
    "values = [38,28,18,30]\n",
    "colors =['red','green','blue','black']\n",
    "\n",
    "plt.bar(catagories, values, color=colors)\n",
    "\n",
    "plt.xlabel('Categories')\n",
    "plt.ylabel('Value')\n",
    "plt.title('Bar chart')\n",
    "\n",
    "plt.show()"
   ]
  },
  {
   "cell_type": "code",
   "execution_count": 87,
   "id": "98bfaba6",
   "metadata": {},
   "outputs": [
    {
     "data": {
      "image/png": "[encoded data removed]",
      "text/plain": [
       "<Figure size 640x480 with 1 Axes>"
      ]
     },
     "metadata": {},
     "output_type": "display_data"
    }
   ],
   "source": [
    "import matplotlib.pyplot as plt\n",
    "\n",
    "labels = ['A','B','C','D']\n",
    "sizes = [38,28,18,30]\n",
    "colors =['red','green','blue','yellow']\n",
    "\n",
    "plt.pie(sizes,labels=labels,autopct='%1.2f%%',startangle = 90, colors=colors)\n",
    "\n",
    "plt.title('Pie chart')\n",
    "\n",
    "plt.show()"
   ]
  },
  {
   "cell_type": "code",
   "execution_count": null,
   "id": "5f11a471",
   "metadata": {},
   "outputs": [],
   "source": []
  }
 ],
 "metadata": {
  "kernelspec": {
   "display_name": "Python 3 (ipykernel)",
   "language": "python",
   "name": "python3"
  },
  "language_info": {
   "codemirror_mode": {
    "name": "ipython",
    "version": 3
   },
   "file_extension": ".py",
   "mimetype": "text/x-python",
   "name": "python",
   "nbconvert_exporter": "python",
   "pygments_lexer": "ipython3",
   "version": "3.8.10"
  }
 },
 "nbformat": 4,
 "nbformat_minor": 5
}

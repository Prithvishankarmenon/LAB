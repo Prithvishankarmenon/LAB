{
 "cells": [
  {
   "cell_type": "markdown",
   "id": "bbadd2fd",
   "metadata": {},
   "source": [
    "# Exp 2-3"
   ]
  },
  {
   "cell_type": "code",
   "execution_count": null,
   "id": "2c89bee5",
   "metadata": {},
   "outputs": [],
   "source": []
  },
  {
   "cell_type": "markdown",
   "id": "b8d564aa",
   "metadata": {},
   "source": [
    "## Mean"
   ]
  },
  {
   "cell_type": "code",
   "execution_count": 7,
   "id": "16466f1e",
   "metadata": {},
   "outputs": [],
   "source": [
    "def meanfunc(list1):\n",
    "    n=len(list1)\n",
    "    sum=0\n",
    "    for i in range (n):\n",
    "        sum+=list1[i]\n",
    "    return sum/n    \n",
    "    "
   ]
  },
  {
   "cell_type": "code",
   "execution_count": 11,
   "id": "d32c7a82",
   "metadata": {},
   "outputs": [
    {
     "name": "stdout",
     "output_type": "stream",
     "text": [
      "Enter the list of elements\n",
      "1 2 3 4 5\n",
      "Mean for the list of numbers is  3.0\n"
     ]
    }
   ],
   "source": [
    "print(\"Enter the list of elements\")\n",
    "list1=[int(x) for x in input().split()]\n",
    "mean=meanfunc(list1)\n",
    "print(\"Mean for the list of numbers is \",mean)"
   ]
  },
  {
   "cell_type": "code",
   "execution_count": null,
   "id": "f7bc0da7",
   "metadata": {},
   "outputs": [],
   "source": [
    "3"
   ]
  },
  {
   "cell_type": "code",
   "execution_count": null,
   "id": "4466c3ec",
   "metadata": {},
   "outputs": [],
   "source": []
  },
  {
   "cell_type": "markdown",
   "id": "e16d1fd9",
   "metadata": {},
   "source": [
    "## Median"
   ]
  },
  {
   "cell_type": "code",
   "execution_count": 78,
   "id": "a19b29d8",
   "metadata": {},
   "outputs": [],
   "source": [
    "def medianfunc(list1):\n",
    "    n=len(list1)-1\n",
    "    temp=0\n",
    "    for i in range (0,n+1):\n",
    "        for j in range(i+1,n+1):\n",
    "            if list1[i]>list1[j]:\n",
    "                temp=list1[i]\n",
    "                list1[i]=list1[j]\n",
    "                list1[j]=temp\n",
    "                \n",
    "            \n",
    "    if((n+1)%2!=0):\n",
    "        return list1[(n)//2]\n",
    "    else:\n",
    "        return  (list1[(n)//2]+list1[((n)//2)+1])/2\n",
    "            \n",
    "    "
   ]
  },
  {
   "cell_type": "code",
   "execution_count": 80,
   "id": "c51be2ad",
   "metadata": {},
   "outputs": [
    {
     "name": "stdout",
     "output_type": "stream",
     "text": [
      "Enter the list of elements\n",
      "1 2 3 4 5\n",
      "Median for the list of numbers is  3\n"
     ]
    }
   ],
   "source": [
    "print(\"Enter the list of elements\")\n",
    "list1=[int(x) for x in input().split()]\n",
    "median=medianfunc(list1)\n",
    "print(\"Median for the list of numbers is \",median)"
   ]
  },
  {
   "cell_type": "markdown",
   "id": "92c4fadc",
   "metadata": {},
   "source": [
    " "
   ]
  },
  {
   "cell_type": "code",
   "execution_count": null,
   "id": "5502307d",
   "metadata": {},
   "outputs": [],
   "source": []
  },
  {
   "cell_type": "code",
   "execution_count": null,
   "id": "15ee7d60",
   "metadata": {},
   "outputs": [],
   "source": []
  },
  {
   "cell_type": "markdown",
   "id": "52b35a99",
   "metadata": {},
   "source": [
    "## Mode"
   ]
  },
  {
   "cell_type": "code",
   "execution_count": 103,
   "id": "636df058",
   "metadata": {},
   "outputs": [],
   "source": [
    "def modefunc(list1):\n",
    "    result=[]\n",
    "    dict1=dict.fromkeys(list1,0)\n",
    "    for i in list1:\n",
    "        if i in dict1:\n",
    "            dict1[i]+=1\n",
    "    \n",
    "    for key in dict1:\n",
    "        if dict1[key] == max(dict1.values()):\n",
    "            result.append(key)\n",
    "    return result"
   ]
  },
  {
   "cell_type": "code",
   "execution_count": 106,
   "id": "a917244a",
   "metadata": {},
   "outputs": [
    {
     "name": "stdout",
     "output_type": "stream",
     "text": [
      "Enter the list of elements\n",
      "1 1 1 2 2 2 \n",
      "Mode for the list of numbers is  1 2\n"
     ]
    }
   ],
   "source": [
    "print(\"Enter the list of elements\")\n",
    "list1=[int(x) for x in input().split()]\n",
    "mode=modefunc(list1)\n",
    "print(\"Mode for the list of numbers is \",*mode)"
   ]
  },
  {
   "cell_type": "code",
   "execution_count": null,
   "id": "63eb8a1c",
   "metadata": {},
   "outputs": [],
   "source": []
  },
  {
   "cell_type": "code",
   "execution_count": null,
   "id": "bfc420df",
   "metadata": {},
   "outputs": [],
   "source": []
  },
  {
   "cell_type": "markdown",
   "id": "3a51a5f5",
   "metadata": {},
   "source": [
    "## Varience & Standard Deviation"
   ]
  },
  {
   "cell_type": "code",
   "execution_count": 116,
   "id": "cfdf1543",
   "metadata": {},
   "outputs": [
    {
     "name": "stdout",
     "output_type": "stream",
     "text": [
      "Enter the list of elements\n",
      "1 2 3 4 5\n",
      "Varience is  2.5625\n",
      "Standard Deviation is 1.6007810593582121\n"
     ]
    }
   ],
   "source": [
    "import math\n",
    "print(\"Enter the list of elements\")\n",
    "list1=[int(x) for x in input().split()]\n",
    "mean=meanfunc(list)\n",
    "sum1=[(x-mean)**2 for x in list1]\n",
    "n=len(list1)\n",
    "varience=sum(sum1)/n\n",
    "print(\"Varience is \",varience)\n",
    "print(\"Standard Deviation is\",math.sqrt(varience))"
   ]
  },
  {
   "cell_type": "code",
   "execution_count": null,
   "id": "cb76656c",
   "metadata": {},
   "outputs": [],
   "source": [
    "############################# ALL Together #############################\n",
    "\n",
    "def mean(l):\n",
    "    s=0\n",
    "    for elem in l:\n",
    "        s+=elem\n",
    "    return s/len(l)\n",
    "\n",
    "def sorter(l):\n",
    "    for i in range(len(l)-1):\n",
    "        for j in range(len(l)-1):\n",
    "            if l[j] > l[j+1]:\n",
    "                temp = l[j]\n",
    "                l[j] = l[j+1]\n",
    "                l[j+1] = temp\n",
    "    return l\n",
    "\n",
    "def median(l):\n",
    "    l,n = sorter(l),len(l)-1\n",
    "    if n%2 == 0:\n",
    "        return l[n//2]\n",
    "    else:\n",
    "        return (l[n//2] + l[((n+2)//2)])/2\n",
    "\n",
    "def mode(l):\n",
    "    d,result=dict(),[]\n",
    "    for elem in l:\n",
    "        if elem in d:\n",
    "            d[elem]+=1\n",
    "        else:\n",
    "            d[elem]=1\n",
    "    for key in d:\n",
    "        if d[key] == max(d.values()):\n",
    "            if max(d.values()) != 1:\n",
    "                result.append(key)\n",
    "            else:\n",
    "                result = [0]\n",
    "    return result\n",
    "\n",
    "def variance(l):\n",
    "    xbar = mean(l)\n",
    "    newl = [(x-xbar)**2 for x in l]\n",
    "    return sum(newl)/(len(l)-1)\n",
    "\n",
    "l = [int(x) for x in input(\"Enter the elements accordingly : \").split()]\n",
    "print(\"Mean of the list: \",mean(l))\n",
    "print(\"Median of the list: \",median(l))\n",
    "print(\"Mode of the list: \",*mode(l))\n",
    "print(\"Variance of the list: \",variance(l))\n",
    "print(\"Standard Deviation of list: \",variance(l)**(1/2))"
   ]
  },
  {
   "cell_type": "markdown",
   "id": "f825a13e",
   "metadata": {},
   "source": [
    "# Experiment 3"
   ]
  },
  {
   "cell_type": "code",
   "execution_count": 133,
   "id": "8875e995",
   "metadata": {},
   "outputs": [],
   "source": [
    "def checkpass(pass1):\n",
    "    error=[]\n",
    "    if len(pass1)<8:\n",
    "        error.append(\"Atleast 8 Charectors\")\n",
    "    if not re.search(\"[a-z]\",pass1):\n",
    "        error.append(\"Atleast 1 small Charectors\")\n",
    "    if not re.search(\"[A-Z]\",pass1):\n",
    "        error.append(\"Atleast 1 capital Charectors\")\n",
    "    if not re.search(\"[1-9]\",pass1):\n",
    "        error.append(\"Atleast 1 number\")\n",
    "    if not re.search(\"[@#!$%^&*]\",pass1):\n",
    "        error.append(\"Atleast 1 special charectors\")     \n",
    "    if error:\n",
    "        print(\"INVALID PASSWORD as a valid password should have :\\n\")\n",
    "        print(*error,sep=\"\\n\")\n",
    "    else:\n",
    "        print(\"Correct password\")\n",
    "    \n",
    "\n"
   ]
  },
  {
   "cell_type": "code",
   "execution_count": 132,
   "id": "21f7c87b",
   "metadata": {},
   "outputs": [
    {
     "name": "stdout",
     "output_type": "stream",
     "text": [
      "Enter the PassWord Passsssss12\n",
      "Correct password\n"
     ]
    }
   ],
   "source": [
    "import re\n",
    "pass1=input(\"Enter the PassWord \")\n",
    "checkpass(pass1)"
   ]
  },
  {
   "cell_type": "code",
   "execution_count": null,
   "id": "1aafd5bc",
   "metadata": {},
   "outputs": [],
   "source": []
  },
  {
   "cell_type": "code",
   "execution_count": null,
   "id": "22ac5261",
   "metadata": {},
   "outputs": [],
   "source": []
  }
 ],
 "metadata": {
  "kernelspec": {
   "display_name": "Python 3 (ipykernel)",
   "language": "python",
   "name": "python3"
  },
  "language_info": {
   "codemirror_mode": {
    "name": "ipython",
    "version": 3
   },
   "file_extension": ".py",
   "mimetype": "text/x-python",
   "name": "python",
   "nbconvert_exporter": "python",
   "pygments_lexer": "ipython3",
   "version": "3.8.10"
  }
 },
 "nbformat": 4,
 "nbformat_minor": 5
}

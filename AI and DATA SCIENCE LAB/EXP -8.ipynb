{
 "cells": [
  {
   "cell_type": "markdown",
   "id": "29c3aa9b",
   "metadata": {},
   "source": [
    "# EXP -8  PCA"
   ]
  },
  {
   "cell_type": "code",
   "execution_count": null,
   "id": "0b6d23c7",
   "metadata": {},
   "outputs": [],
   "source": []
  },
  {
   "cell_type": "code",
   "execution_count": null,
   "id": "12015929",
   "metadata": {},
   "outputs": [],
   "source": []
  },
  {
   "cell_type": "code",
   "execution_count": 1,
   "id": "e0404429",
   "metadata": {},
   "outputs": [],
   "source": [
    "import pandas as pd\n",
    "import numpy as np\n",
    "from sklearn.model_selection import train_test_split\n",
    "from sklearn.preprocessing import LabelEncoder,StandardScaler\n",
    "from sklearn.decomposition import PCA\n",
    "from sklearn.ensemble import RandomForestClassifier\n",
    "from sklearn.metrics import accuracy_score"
   ]
  },
  {
   "cell_type": "code",
   "execution_count": 2,
   "id": "53a3d598",
   "metadata": {},
   "outputs": [],
   "source": [
    "data=pd.read_csv(\"/home/s5ad2/Downloads/car_evaluation.csv\")"
   ]
  },
  {
   "cell_type": "code",
   "execution_count": 3,
   "id": "e256981d",
   "metadata": {},
   "outputs": [
    {
     "name": "stdout",
     "output_type": "stream",
     "text": [
      "<class 'pandas.core.frame.DataFrame'>\n",
      "RangeIndex: 1728 entries, 0 to 1727\n",
      "Data columns (total 7 columns):\n",
      "buy_price     1728 non-null object\n",
      "maint_cost    1728 non-null object\n",
      "doors         1728 non-null object\n",
      "person        1728 non-null object\n",
      "boot_space    1728 non-null object\n",
      "safety        1728 non-null object\n",
      "class         1728 non-null object\n",
      "dtypes: object(7)\n",
      "memory usage: 94.6+ KB\n"
     ]
    }
   ],
   "source": [
    "data.info()"
   ]
  },
  {
   "cell_type": "code",
   "execution_count": 4,
   "id": "fe62a74c",
   "metadata": {},
   "outputs": [
    {
     "data": {
      "text/plain": [
       "Index(['buy_price', 'maint_cost', 'doors', 'person', 'boot_space', 'safety',\n",
       "       'class'],\n",
       "      dtype='object')"
      ]
     },
     "execution_count": 4,
     "metadata": {},
     "output_type": "execute_result"
    }
   ],
   "source": [
    "data.columns"
   ]
  },
  {
   "cell_type": "code",
   "execution_count": 5,
   "id": "3d972199",
   "metadata": {},
   "outputs": [
    {
     "data": {
      "text/html": [
       "<div>\n",
       "<style scoped>\n",
       "    .dataframe tbody tr th:only-of-type {\n",
       "        vertical-align: middle;\n",
       "    }\n",
       "\n",
       "    .dataframe tbody tr th {\n",
       "        vertical-align: top;\n",
       "    }\n",
       "\n",
       "    .dataframe thead th {\n",
       "        text-align: right;\n",
       "    }\n",
       "</style>\n",
       "<table border=\"1\" class=\"dataframe\">\n",
       "  <thead>\n",
       "    <tr style=\"text-align: right;\">\n",
       "      <th></th>\n",
       "      <th>buy_price</th>\n",
       "      <th>maint_cost</th>\n",
       "      <th>doors</th>\n",
       "      <th>person</th>\n",
       "      <th>boot_space</th>\n",
       "      <th>safety</th>\n",
       "      <th>class</th>\n",
       "    </tr>\n",
       "  </thead>\n",
       "  <tbody>\n",
       "    <tr>\n",
       "      <th>0</th>\n",
       "      <td>vhigh</td>\n",
       "      <td>vhigh</td>\n",
       "      <td>2</td>\n",
       "      <td>2</td>\n",
       "      <td>small</td>\n",
       "      <td>low</td>\n",
       "      <td>unacc</td>\n",
       "    </tr>\n",
       "    <tr>\n",
       "      <th>1</th>\n",
       "      <td>vhigh</td>\n",
       "      <td>vhigh</td>\n",
       "      <td>2</td>\n",
       "      <td>2</td>\n",
       "      <td>small</td>\n",
       "      <td>med</td>\n",
       "      <td>unacc</td>\n",
       "    </tr>\n",
       "    <tr>\n",
       "      <th>2</th>\n",
       "      <td>vhigh</td>\n",
       "      <td>vhigh</td>\n",
       "      <td>2</td>\n",
       "      <td>2</td>\n",
       "      <td>small</td>\n",
       "      <td>high</td>\n",
       "      <td>unacc</td>\n",
       "    </tr>\n",
       "    <tr>\n",
       "      <th>3</th>\n",
       "      <td>vhigh</td>\n",
       "      <td>vhigh</td>\n",
       "      <td>2</td>\n",
       "      <td>2</td>\n",
       "      <td>med</td>\n",
       "      <td>low</td>\n",
       "      <td>unacc</td>\n",
       "    </tr>\n",
       "    <tr>\n",
       "      <th>4</th>\n",
       "      <td>vhigh</td>\n",
       "      <td>vhigh</td>\n",
       "      <td>2</td>\n",
       "      <td>2</td>\n",
       "      <td>med</td>\n",
       "      <td>med</td>\n",
       "      <td>unacc</td>\n",
       "    </tr>\n",
       "    <tr>\n",
       "      <th>5</th>\n",
       "      <td>vhigh</td>\n",
       "      <td>vhigh</td>\n",
       "      <td>2</td>\n",
       "      <td>2</td>\n",
       "      <td>med</td>\n",
       "      <td>high</td>\n",
       "      <td>unacc</td>\n",
       "    </tr>\n",
       "    <tr>\n",
       "      <th>6</th>\n",
       "      <td>vhigh</td>\n",
       "      <td>vhigh</td>\n",
       "      <td>2</td>\n",
       "      <td>2</td>\n",
       "      <td>big</td>\n",
       "      <td>low</td>\n",
       "      <td>unacc</td>\n",
       "    </tr>\n",
       "    <tr>\n",
       "      <th>7</th>\n",
       "      <td>vhigh</td>\n",
       "      <td>vhigh</td>\n",
       "      <td>2</td>\n",
       "      <td>2</td>\n",
       "      <td>big</td>\n",
       "      <td>med</td>\n",
       "      <td>unacc</td>\n",
       "    </tr>\n",
       "    <tr>\n",
       "      <th>8</th>\n",
       "      <td>vhigh</td>\n",
       "      <td>vhigh</td>\n",
       "      <td>2</td>\n",
       "      <td>2</td>\n",
       "      <td>big</td>\n",
       "      <td>high</td>\n",
       "      <td>unacc</td>\n",
       "    </tr>\n",
       "    <tr>\n",
       "      <th>9</th>\n",
       "      <td>vhigh</td>\n",
       "      <td>vhigh</td>\n",
       "      <td>2</td>\n",
       "      <td>4</td>\n",
       "      <td>small</td>\n",
       "      <td>low</td>\n",
       "      <td>unacc</td>\n",
       "    </tr>\n",
       "  </tbody>\n",
       "</table>\n",
       "</div>"
      ],
      "text/plain": [
       "  buy_price maint_cost doors person boot_space safety  class\n",
       "0     vhigh      vhigh     2      2      small    low  unacc\n",
       "1     vhigh      vhigh     2      2      small    med  unacc\n",
       "2     vhigh      vhigh     2      2      small   high  unacc\n",
       "3     vhigh      vhigh     2      2        med    low  unacc\n",
       "4     vhigh      vhigh     2      2        med    med  unacc\n",
       "5     vhigh      vhigh     2      2        med   high  unacc\n",
       "6     vhigh      vhigh     2      2        big    low  unacc\n",
       "7     vhigh      vhigh     2      2        big    med  unacc\n",
       "8     vhigh      vhigh     2      2        big   high  unacc\n",
       "9     vhigh      vhigh     2      4      small    low  unacc"
      ]
     },
     "execution_count": 5,
     "metadata": {},
     "output_type": "execute_result"
    }
   ],
   "source": [
    "data.head(10)"
   ]
  },
  {
   "cell_type": "code",
   "execution_count": 6,
   "id": "cc36a096",
   "metadata": {},
   "outputs": [],
   "source": [
    "# Encode catogorical data into numerical\n",
    "for col in data.columns[:-1]:\n",
    "    le=LabelEncoder()\n",
    "    data[col]=le.fit_transform(data[col])"
   ]
  },
  {
   "cell_type": "code",
   "execution_count": 8,
   "id": "748ff502",
   "metadata": {},
   "outputs": [
    {
     "name": "stdout",
     "output_type": "stream",
     "text": [
      "      buy_price  maint_cost  doors  person  boot_space  safety\n",
      "0             3           3      0       0           2       1\n",
      "1             3           3      0       0           2       2\n",
      "2             3           3      0       0           2       0\n",
      "3             3           3      0       0           1       1\n",
      "4             3           3      0       0           1       2\n",
      "...         ...         ...    ...     ...         ...     ...\n",
      "1723          1           1      3       2           1       2\n",
      "1724          1           1      3       2           1       0\n",
      "1725          1           1      3       2           0       1\n",
      "1726          1           1      3       2           0       2\n",
      "1727          1           1      3       2           0       0\n",
      "\n",
      "[1728 rows x 6 columns]\n",
      "      class\n",
      "0     unacc\n",
      "1     unacc\n",
      "2     unacc\n",
      "3     unacc\n",
      "4     unacc\n",
      "...     ...\n",
      "1723   good\n",
      "1724  vgood\n",
      "1725  unacc\n",
      "1726   good\n",
      "1727  vgood\n",
      "\n",
      "[1728 rows x 1 columns]\n"
     ]
    }
   ],
   "source": [
    "x = data[['buy_price','maint_cost','doors','person','boot_space','safety']]\n",
    "y = data[['class']]\n",
    "print(x)\n",
    "print(y)"
   ]
  },
  {
   "cell_type": "code",
   "execution_count": 9,
   "id": "0dc844d7",
   "metadata": {},
   "outputs": [],
   "source": [
    "x_train,x_test,y_train,y_test = train_test_split(x,y,test_size=.30,random_state=42)"
   ]
  },
  {
   "cell_type": "code",
   "execution_count": 10,
   "id": "04801f1e",
   "metadata": {},
   "outputs": [],
   "source": [
    "#Standardise\n",
    "scalar=StandardScaler()\n",
    "x_train_std=scalar.fit_transform(x_train)\n",
    "x_test_std=scalar.transform(x_test)"
   ]
  },
  {
   "cell_type": "code",
   "execution_count": 14,
   "id": "b8c56671",
   "metadata": {},
   "outputs": [
    {
     "name": "stderr",
     "output_type": "stream",
     "text": [
      "/tmp/ipykernel_2890/686808381.py:10: DataConversionWarning: A column-vector y was passed when a 1d array was expected. Please change the shape of y to (n_samples,), for example using ravel().\n",
      "  clf.fit(x_train_pca,y_train)\n",
      "/tmp/ipykernel_2890/686808381.py:10: DataConversionWarning: A column-vector y was passed when a 1d array was expected. Please change the shape of y to (n_samples,), for example using ravel().\n",
      "  clf.fit(x_train_pca,y_train)\n"
     ]
    },
    {
     "name": "stdout",
     "output_type": "stream",
     "text": [
      "no: of PC =2, Acc=0.6184971098265896\n",
      "no: of PC =3, Acc=0.6319845857418112\n"
     ]
    },
    {
     "name": "stderr",
     "output_type": "stream",
     "text": [
      "/tmp/ipykernel_2890/686808381.py:10: DataConversionWarning: A column-vector y was passed when a 1d array was expected. Please change the shape of y to (n_samples,), for example using ravel().\n",
      "  clf.fit(x_train_pca,y_train)\n",
      "/tmp/ipykernel_2890/686808381.py:10: DataConversionWarning: A column-vector y was passed when a 1d array was expected. Please change the shape of y to (n_samples,), for example using ravel().\n",
      "  clf.fit(x_train_pca,y_train)\n"
     ]
    },
    {
     "name": "stdout",
     "output_type": "stream",
     "text": [
      "no: of PC =4, Acc=0.7707129094412332\n",
      "no: of PC =5, Acc=0.7707129094412332\n",
      "best no: of PCA component = 5, Acc=0.7707129094412332\n"
     ]
    }
   ],
   "source": [
    "#Perform PCA\n",
    "best_accuracy=0\n",
    "best_n_components=0\n",
    "for n_components in range(2,6):\n",
    "    pca=PCA(n_components=n_components)\n",
    "    x_train_pca=pca.fit_transform(x_train_std)\n",
    "    x_test_pca=pca.transform(x_test_std)\n",
    "    \n",
    "    clf=RandomForestClassifier(random_state=42)\n",
    "    clf.fit(x_train_pca,y_train)\n",
    "    \n",
    "    y_pred=clf.predict(x_test_pca)\n",
    "    accuracy=accuracy_score(y_test,y_pred)\n",
    "    print(f'no: of PC ={n_components}, Acc={accuracy}')\n",
    "    \n",
    "if accuracy>best_accuracy:\n",
    "    best_accuracy=accuracy\n",
    "    best_n_components=n_components\n",
    "    print(f'best no: of PCA component = {best_n_components}, Acc={best_accuracy}')        "
   ]
  },
  {
   "cell_type": "code",
   "execution_count": null,
   "id": "72dfdd41",
   "metadata": {},
   "outputs": [],
   "source": []
  },
  {
   "cell_type": "code",
   "execution_count": 19,
   "id": "8179f338",
   "metadata": {},
   "outputs": [
    {
     "name": "stdout",
     "output_type": "stream",
     "text": [
      "[0.17419113 0.17239607 0.16823927 0.16514349 0.16167402]\n"
     ]
    },
    {
     "data": {
      "image/png": "[encoded data removed]",
      "text/plain": [
       "<Figure size 800x500 with 1 Axes>"
      ]
     },
     "metadata": {},
     "output_type": "display_data"
    }
   ],
   "source": [
    "import matplotlib.pyplot as plt\n",
    "pca.fit(x_train_std)\n",
    "\n",
    "explained_variance_ratio=pca.explained_variance_ratio_\n",
    "print(explained_variance_ratio)\n",
    "\n",
    "plt.figure(figsize=(8,5))\n",
    "plt.bar(range(1,len(explained_variance_ratio)+1),explained_variance_ratio,color='blue')\n",
    "plt.title(\"Scree plot\")\n",
    "plt.xlabel(\"Principle component\")\n",
    "plt.ylabel(\"Explained Variance Ratio\")\n",
    "plt.xticks(range(1,len(explained_variance_ratio)+1))\n",
    "plt.show()"
   ]
  },
  {
   "cell_type": "code",
   "execution_count": null,
   "id": "1da5c589",
   "metadata": {},
   "outputs": [],
   "source": []
  },
  {
   "cell_type": "code",
   "execution_count": null,
   "id": "12d1dbf9",
   "metadata": {},
   "outputs": [],
   "source": []
  },
  {
   "cell_type": "code",
   "execution_count": null,
   "id": "46be5420",
   "metadata": {},
   "outputs": [],
   "source": []
  }
 ],
 "metadata": {
  "kernelspec": {
   "display_name": "Python 3 (ipykernel)",
   "language": "python",
   "name": "python3"
  },
  "language_info": {
   "codemirror_mode": {
    "name": "ipython",
    "version": 3
   },
   "file_extension": ".py",
   "mimetype": "text/x-python",
   "name": "python",
   "nbconvert_exporter": "python",
   "pygments_lexer": "ipython3",
   "version": "3.8.10"
  }
 },
 "nbformat": 4,
 "nbformat_minor": 5
}

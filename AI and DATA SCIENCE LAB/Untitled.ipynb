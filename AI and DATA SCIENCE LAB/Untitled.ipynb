{
 "cells": [
  {
   "cell_type": "markdown",
   "id": "af26c73c",
   "metadata": {},
   "source": [
    "# Matrix Transpose"
   ]
  },
  {
   "cell_type": "code",
   "execution_count": null,
   "id": "bad9e498",
   "metadata": {},
   "outputs": [],
   "source": [
    "23-7-2024"
   ]
  },
  {
   "cell_type": "code",
   "execution_count": 3,
   "id": "3e702969",
   "metadata": {},
   "outputs": [
    {
     "name": "stdout",
     "output_type": "stream",
     "text": [
      "Enter n for n X m matarix2\n",
      "Enter m for n X m matarix3\n",
      "Enter elements(0, 0) : 1\n",
      "Enter elements(0, 1) : 2\n",
      "Enter elements(0, 2) : 3\n",
      "Enter elements(1, 0) : 4\n",
      "Enter elements(1, 1) : 5\n",
      "Enter elements(1, 2) : 6\n",
      "Matrix is \n",
      "1 2 3 \n",
      "4 5 6 \n",
      "Transpose is \n",
      "1 4 \n",
      "2 5 \n",
      "3 6 \n"
     ]
    }
   ],
   "source": [
    "n = int(input(\"Enter n for n X m matarix\"))\n",
    "m = int(input(\"Enter m for n X m matarix\"))\n",
    "\n",
    "a=[]\n",
    "for i in range(n):\n",
    "    row=[]\n",
    "    for j in range(m):\n",
    "        row.append(input(f\"Enter elements{(i),(j)} : \"))\n",
    "    a.append(row)\n",
    "    \n",
    "print (\"Matrix is \")\n",
    "\n",
    "for i in range(n):\n",
    "    for j in range(m):\n",
    "        print(a[i][j],end=' ')\n",
    "    print()    \n",
    "\n",
    "print(\"Transpose is \")\n",
    "\n",
    "for i in range(m):\n",
    "    for j in range(n):\n",
    "        print(a[j][i],end=' ')\n",
    "    print()"
   ]
  },
  {
   "cell_type": "code",
   "execution_count": null,
   "id": "d1991d5e",
   "metadata": {},
   "outputs": [],
   "source": []
  },
  {
   "cell_type": "markdown",
   "id": "47856039",
   "metadata": {},
   "source": [
    "# Matrix Addition"
   ]
  },
  {
   "cell_type": "code",
   "execution_count": 20,
   "id": "23fa4497",
   "metadata": {},
   "outputs": [
    {
     "name": "stdout",
     "output_type": "stream",
     "text": [
      "Enter n for n X m matarix2\n",
      "Enter m for n X m matarix2\n",
      "Enter 1st matrix elements(0, 0) : 1\n",
      "Enter 1st matrix elements(0, 1) : 1\n",
      "Enter 1st matrix elements(1, 0) : 1\n",
      "Enter 1st matrix elements(1, 1) : 1\n",
      "Enter 2st matrix elements(0, 0) : 2\n",
      "Enter 2st matrix elements(0, 1) : 2\n",
      "Enter 2st matrix elements(1, 0) : 2\n",
      "Enter 2st matrix elements(1, 1) : 2\n",
      "1st Matrix is \n",
      "1 1 \n",
      "1 1 \n",
      "2nd Matrix is \n",
      "2 2 \n",
      "2 2 \n",
      "Sum Matrix is \n",
      "3 3 \n",
      "3 3 \n"
     ]
    }
   ],
   "source": [
    "n = int(input(\"Enter n for n X m matarix\"))\n",
    "m = int(input(\"Enter m for n X m matarix\"))\n",
    "\n",
    "a=[]\n",
    "for i in range(n):\n",
    "    row=[]\n",
    "    for j in range(m):\n",
    "        row.append(int(input(f\"Enter 1st matrix elements{(i),(j)} : \")))\n",
    "    a.append(row)\n",
    "    \n",
    "    \n",
    "b=[]\n",
    "for i in range(n):\n",
    "    row=[]\n",
    "    for j in range(m):\n",
    "        row.append(int(input(f\"Enter 2st matrix elements{(i),(j)} : \")))\n",
    "    b.append(row)\n",
    "    \n",
    "c=[]    \n",
    "for i in range(n):\n",
    "    row=[]\n",
    "    for j in range(m):\n",
    "        row.append(0)\n",
    "    c.append(row)    \n",
    "\n",
    "\n",
    "print (\"1st Matrix is \")\n",
    "\n",
    "for i in range(n):\n",
    "    for j in range(m):\n",
    "        print(a[i][j],end=' ')\n",
    "    print()\n",
    "    \n",
    "print (\"2nd Matrix is \")\n",
    "\n",
    "for i in range(n):\n",
    "    for j in range(m):\n",
    "        print(b[i][j],end=' ')\n",
    "    print()\n",
    "\n",
    "\n",
    "\n",
    "for i in range(n):\n",
    "    for j in range(m):\n",
    "        c[i][j]=a[i][j]+b[i][j]\n",
    "\n",
    "print (\"Sum Matrix is \")\n",
    "\n",
    "for i in range(n):\n",
    "    for j in range(m):\n",
    "        print(c[i][j],end=' ')\n",
    "    print()        "
   ]
  },
  {
   "cell_type": "code",
   "execution_count": null,
   "id": "cbfbbd49",
   "metadata": {},
   "outputs": [],
   "source": []
  },
  {
   "cell_type": "markdown",
   "id": "f6144cb3",
   "metadata": {},
   "source": [
    "# Matrix Multiplication"
   ]
  },
  {
   "cell_type": "code",
   "execution_count": null,
   "id": "e0b0bc72",
   "metadata": {},
   "outputs": [],
   "source": []
  },
  {
   "cell_type": "code",
   "execution_count": null,
   "id": "4e16dd77",
   "metadata": {},
   "outputs": [],
   "source": []
  },
  {
   "cell_type": "code",
   "execution_count": null,
   "id": "a2dd6fb0",
   "metadata": {},
   "outputs": [],
   "source": []
  },
  {
   "cell_type": "code",
   "execution_count": null,
   "id": "fb96bcaa",
   "metadata": {},
   "outputs": [],
   "source": [
    "2"
   ]
  },
  {
   "cell_type": "code",
   "execution_count": 43,
   "id": "e48bf32a",
   "metadata": {},
   "outputs": [
    {
     "name": "stdout",
     "output_type": "stream",
     "text": [
      "Enter n for n X m matarix for 1st matrix2\n",
      "Enter m for n X m matarix for 1st matrix2\n",
      "Enter p for p X q matarix for 2st matrix2\n",
      "Enter q for p X q matarix for 2st matrix2\n",
      "Enter 1st matrix elements(0, 0) : 1\n",
      "Enter 1st matrix elements(0, 1) : 2\n",
      "Enter 1st matrix elements(1, 0) : 3\n",
      "Enter 1st matrix elements(1, 1) : 4\n",
      "1st Matrix is \n",
      "1 2 \n",
      "3 4 \n",
      "Enter 2st matrix elements(0, 0) : 1\n",
      "Enter 2st matrix elements(0, 1) : 2\n",
      "Enter 2st matrix elements(1, 0) : 3\n",
      "Enter 2st matrix elements(1, 1) : 4\n",
      "2nd Matrix is \n",
      "1 2 \n",
      "3 4 \n",
      "The Product is\n",
      "7 10 \n",
      "15 22 \n"
     ]
    }
   ],
   "source": [
    "n = int(input(\"Enter n for n X m matarix for 1st matrix\"))\n",
    "m = int(input(\"Enter m for n X m matarix for 1st matrix\"))\n",
    "p = int(input(\"Enter p for p X q matarix for 2st matrix\"))\n",
    "q = int(input(\"Enter q for p X q matarix for 2st matrix\"))\n",
    "\n",
    "a=[]\n",
    "for i in range(n):\n",
    "    row=[]\n",
    "    for j in range(m):\n",
    "        row.append(int(input(f\"Enter 1st matrix elements{(i),(j)} : \")))\n",
    "    a.append(row)\n",
    "print (\"1st Matrix is \")\n",
    "\n",
    "for i in range(n):\n",
    "    for j in range(m):\n",
    "        print(a[i][j],end=' ')\n",
    "    print()\n",
    "    \n",
    "\n",
    "    \n",
    "b=[]\n",
    "for i in range(p):\n",
    "    row=[]\n",
    "    for j in range(q):\n",
    "        row.append(int(input(f\"Enter 2st matrix elements{(i),(j)} : \")))\n",
    "    b.append(row)\n",
    "\n",
    "print (\"2nd Matrix is \")\n",
    "\n",
    "for i in range(p):\n",
    "    for j in range(q):\n",
    "        print(b[i][j],end=' ')\n",
    "    print()\n",
    "            \n",
    "    \n",
    "    \n",
    "if(m!=p):\n",
    "    print(\"Multiplication not possible\")\n",
    "else:\n",
    "    c=[]    \n",
    "    for i in range(n):\n",
    "        row=[]\n",
    "        for j in range(q):\n",
    "            row.append(0)\n",
    "        c.append(row)\n",
    "              \n",
    "        \n",
    "    for i in range(n):\n",
    "        for j in range(m):\n",
    "            for k in range(q):\n",
    "                c[i][j]=c[i][j]+(a[i][k]*b[k][j])    \n",
    "        \n",
    "    print(\"The Product is\")\n",
    "    for i in range(n):\n",
    "        for j in range(p):\n",
    "            print(c[i][j],end=' ')\n",
    "        print()  \n",
    "    "
   ]
  },
  {
   "cell_type": "code",
   "execution_count": null,
   "id": "67758e52",
   "metadata": {},
   "outputs": [],
   "source": []
  },
  {
   "cell_type": "code",
   "execution_count": null,
   "id": "831f3911",
   "metadata": {},
   "outputs": [],
   "source": []
  }
 ],
 "metadata": {
  "kernelspec": {
   "display_name": "Python 3 (ipykernel)",
   "language": "python",
   "name": "python3"
  },
  "language_info": {
   "codemirror_mode": {
    "name": "ipython",
    "version": 3
   },
   "file_extension": ".py",
   "mimetype": "text/x-python",
   "name": "python",
   "nbconvert_exporter": "python",
   "pygments_lexer": "ipython3",
   "version": "3.8.10"
  }
 },
 "nbformat": 4,
 "nbformat_minor": 5
}
